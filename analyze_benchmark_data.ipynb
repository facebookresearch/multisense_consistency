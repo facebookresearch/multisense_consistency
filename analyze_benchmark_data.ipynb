{
 "cells": [
  {
   "cell_type": "code",
   "execution_count": 1,
   "id": "b7cafc7c",
   "metadata": {},
   "outputs": [],
   "source": [
    "import numpy as np\n",
    "import pandas as pd\n",
    "import seaborn as sns\n",
    "from matplotlib import pyplot as plt\n",
    "from utils.task_config import task_config\n",
    "from utils.response_standardization import standardize_classification_response\n",
    "from analysis_utils.load_scores import *\n",
    "\n",
    "collection_task = ((\"individual\", \"paws-x\"), (\"xglue\", \"xnli\"), \n",
    "                   (\"superglue\", \"copa\"), (\"individual\", \"belebele\"))"
   ]
  },
  {
   "cell_type": "markdown",
   "id": "27d46ed1",
   "metadata": {},
   "source": [
    "# accuracies"
   ]
  },
  {
   "cell_type": "markdown",
   "id": "66af387e",
   "metadata": {},
   "source": [
    "#### main accuracies "
   ]
  },
  {
   "cell_type": "code",
   "execution_count": 2,
   "id": "c7cf5156",
   "metadata": {},
   "outputs": [
    {
     "name": "stdout",
     "output_type": "stream",
     "text": [
      "               paws-x   xnli  copa  belebele\n",
      "en              75.55  43.67  84.4     85.89\n",
      "en-paraphrase   67.55  53.49  82.2       NaN\n",
      "de_from_en      64.30  50.00  85.6     81.22\n",
      "it_from_en      75.10  56.35  86.6     81.00\n",
      "nl_from_en      71.85  50.92  83.4     79.00\n",
      "sv_from_en      55.90  46.97  89.2     79.11\n"
     ]
    }
   ],
   "source": [
    "all_scores, em = accuracy_benchmarks(combine=True, response_mapping=True)\n",
    "print(pd.DataFrame(em))"
   ]
  },
  {
   "cell_type": "code",
   "execution_count": 3,
   "id": "d961db52",
   "metadata": {},
   "outputs": [
    {
     "data": {
      "text/plain": [
       "en               72.377500\n",
       "en-paraphrase    67.746667\n",
       "de_from_en       70.280000\n",
       "it_from_en       74.762500\n",
       "nl_from_en       71.292500\n",
       "sv_from_en       67.795000\n",
       "dtype: float64"
      ]
     },
     "execution_count": 3,
     "metadata": {},
     "output_type": "execute_result"
    }
   ],
   "source": [
    "# average\n",
    "pd.DataFrame(em).mean(axis=1)"
   ]
  },
  {
   "cell_type": "markdown",
   "id": "19c8cb53",
   "metadata": {},
   "source": [
    "#### accuracies en 2nd run"
   ]
  },
  {
   "cell_type": "code",
   "execution_count": 4,
   "id": "8010e635",
   "metadata": {},
   "outputs": [],
   "source": [
    "_, em_en_2nd_run = accuracy_benchmarks_second_run(response_mapping=True)"
   ]
  },
  {
   "cell_type": "code",
   "execution_count": 5,
   "id": "b9e42102",
   "metadata": {},
   "outputs": [
    {
     "data": {
      "text/plain": [
       "{'paws-x': {'en_2nd_run': 74.7},\n",
       " 'xnli': {'en_2nd_run': 43.89},\n",
       " 'copa': {'en_2nd_run': 85.6},\n",
       " 'belebele': {'en_2nd_run': 85.78}}"
      ]
     },
     "metadata": {},
     "output_type": "display_data"
    }
   ],
   "source": [
    "display(em_en_2nd_run)"
   ]
  },
  {
   "cell_type": "markdown",
   "id": "694e87d3",
   "metadata": {},
   "source": [
    "#### accuracies for external translations"
   ]
  },
  {
   "cell_type": "code",
   "execution_count": 6,
   "id": "dda83414",
   "metadata": {},
   "outputs": [
    {
     "data": {
      "text/html": [
       "<div>\n",
       "<style scoped>\n",
       "    .dataframe tbody tr th:only-of-type {\n",
       "        vertical-align: middle;\n",
       "    }\n",
       "\n",
       "    .dataframe tbody tr th {\n",
       "        vertical-align: top;\n",
       "    }\n",
       "\n",
       "    .dataframe thead th {\n",
       "        text-align: right;\n",
       "    }\n",
       "</style>\n",
       "<table border=\"1\" class=\"dataframe\">\n",
       "  <thead>\n",
       "    <tr style=\"text-align: right;\">\n",
       "      <th></th>\n",
       "      <th>paws-x</th>\n",
       "      <th>xnli</th>\n",
       "      <th>copa</th>\n",
       "      <th>belebele</th>\n",
       "    </tr>\n",
       "  </thead>\n",
       "  <tbody>\n",
       "    <tr>\n",
       "      <th>de</th>\n",
       "      <td>57.75</td>\n",
       "      <td>47.94</td>\n",
       "      <td>NaN</td>\n",
       "      <td>80.78</td>\n",
       "    </tr>\n",
       "    <tr>\n",
       "      <th>it</th>\n",
       "      <td>NaN</td>\n",
       "      <td>NaN</td>\n",
       "      <td>86.2</td>\n",
       "      <td>77.89</td>\n",
       "    </tr>\n",
       "    <tr>\n",
       "      <th>nl</th>\n",
       "      <td>NaN</td>\n",
       "      <td>NaN</td>\n",
       "      <td>NaN</td>\n",
       "      <td>77.00</td>\n",
       "    </tr>\n",
       "    <tr>\n",
       "      <th>sv</th>\n",
       "      <td>NaN</td>\n",
       "      <td>NaN</td>\n",
       "      <td>NaN</td>\n",
       "      <td>78.00</td>\n",
       "    </tr>\n",
       "  </tbody>\n",
       "</table>\n",
       "</div>"
      ],
      "text/plain": [
       "    paws-x   xnli  copa  belebele\n",
       "de   57.75  47.94   NaN     80.78\n",
       "it     NaN    NaN  86.2     77.89\n",
       "nl     NaN    NaN   NaN     77.00\n",
       "sv     NaN    NaN   NaN     78.00"
      ]
     },
     "metadata": {},
     "output_type": "display_data"
    }
   ],
   "source": [
    "all_scores, em = accuracy_benchmarks(combine=False, response_mapping=True, external=True)\n",
    "display(pd.DataFrame(em))"
   ]
  },
  {
   "cell_type": "markdown",
   "id": "23ca0bc9",
   "metadata": {},
   "source": [
    "#### accuracies ablations"
   ]
  },
  {
   "cell_type": "code",
   "execution_count": 28,
   "id": "af6a1c5c",
   "metadata": {},
   "outputs": [
    {
     "data": {
      "text/html": [
       "<div>\n",
       "<style scoped>\n",
       "    .dataframe tbody tr th:only-of-type {\n",
       "        vertical-align: middle;\n",
       "    }\n",
       "\n",
       "    .dataframe tbody tr th {\n",
       "        vertical-align: top;\n",
       "    }\n",
       "\n",
       "    .dataframe thead th {\n",
       "        text-align: right;\n",
       "    }\n",
       "</style>\n",
       "<table border=\"1\" class=\"dataframe\">\n",
       "  <thead>\n",
       "    <tr style=\"text-align: right;\">\n",
       "      <th></th>\n",
       "      <th>paws-x</th>\n",
       "      <th>xnli</th>\n",
       "      <th>copa</th>\n",
       "      <th>belebele</th>\n",
       "    </tr>\n",
       "  </thead>\n",
       "  <tbody>\n",
       "    <tr>\n",
       "      <th>en</th>\n",
       "      <td>75.55</td>\n",
       "      <td>43.67</td>\n",
       "      <td>84.4</td>\n",
       "      <td>85.89</td>\n",
       "    </tr>\n",
       "    <tr>\n",
       "      <th>en-paraphrase</th>\n",
       "      <td>71.80</td>\n",
       "      <td>54.23</td>\n",
       "      <td>88.2</td>\n",
       "      <td>87.44</td>\n",
       "    </tr>\n",
       "    <tr>\n",
       "      <th>de_from_en</th>\n",
       "      <td>62.45</td>\n",
       "      <td>49.24</td>\n",
       "      <td>88.0</td>\n",
       "      <td>86.22</td>\n",
       "    </tr>\n",
       "    <tr>\n",
       "      <th>it_from_en</th>\n",
       "      <td>72.80</td>\n",
       "      <td>57.19</td>\n",
       "      <td>91.0</td>\n",
       "      <td>86.00</td>\n",
       "    </tr>\n",
       "    <tr>\n",
       "      <th>nl_from_en</th>\n",
       "      <td>68.70</td>\n",
       "      <td>48.10</td>\n",
       "      <td>86.4</td>\n",
       "      <td>85.00</td>\n",
       "    </tr>\n",
       "    <tr>\n",
       "      <th>sv_from_en</th>\n",
       "      <td>59.10</td>\n",
       "      <td>48.26</td>\n",
       "      <td>93.0</td>\n",
       "      <td>85.56</td>\n",
       "    </tr>\n",
       "  </tbody>\n",
       "</table>\n",
       "</div>"
      ],
      "text/plain": [
       "               paws-x   xnli  copa  belebele\n",
       "en              75.55  43.67  84.4     85.89\n",
       "en-paraphrase   71.80  54.23  88.2     87.44\n",
       "de_from_en      62.45  49.24  88.0     86.22\n",
       "it_from_en      72.80  57.19  91.0     86.00\n",
       "nl_from_en      68.70  48.10  86.4     85.00\n",
       "sv_from_en      59.10  48.26  93.0     85.56"
      ]
     },
     "metadata": {},
     "output_type": "display_data"
    }
   ],
   "source": [
    "# translate instruction only, keep english task data\n",
    "all_scores, em = accuracy_benchmarks(combine=False, response_mapping=True, ablation=\"task\")\n",
    "display(pd.DataFrame(em))"
   ]
  },
  {
   "cell_type": "code",
   "execution_count": 29,
   "id": "8899e89b",
   "metadata": {},
   "outputs": [
    {
     "data": {
      "text/html": [
       "<div>\n",
       "<style scoped>\n",
       "    .dataframe tbody tr th:only-of-type {\n",
       "        vertical-align: middle;\n",
       "    }\n",
       "\n",
       "    .dataframe tbody tr th {\n",
       "        vertical-align: top;\n",
       "    }\n",
       "\n",
       "    .dataframe thead th {\n",
       "        text-align: right;\n",
       "    }\n",
       "</style>\n",
       "<table border=\"1\" class=\"dataframe\">\n",
       "  <thead>\n",
       "    <tr style=\"text-align: right;\">\n",
       "      <th></th>\n",
       "      <th>paws-x</th>\n",
       "      <th>xnli</th>\n",
       "      <th>copa</th>\n",
       "      <th>belebele</th>\n",
       "    </tr>\n",
       "  </thead>\n",
       "  <tbody>\n",
       "    <tr>\n",
       "      <th>en</th>\n",
       "      <td>75.55</td>\n",
       "      <td>43.67</td>\n",
       "      <td>84.4</td>\n",
       "      <td>85.89</td>\n",
       "    </tr>\n",
       "    <tr>\n",
       "      <th>en-paraphrase</th>\n",
       "      <td>69.70</td>\n",
       "      <td>44.49</td>\n",
       "      <td>80.6</td>\n",
       "      <td>NaN</td>\n",
       "    </tr>\n",
       "    <tr>\n",
       "      <th>de_from_en</th>\n",
       "      <td>78.65</td>\n",
       "      <td>37.96</td>\n",
       "      <td>82.6</td>\n",
       "      <td>80.00</td>\n",
       "    </tr>\n",
       "    <tr>\n",
       "      <th>it_from_en</th>\n",
       "      <td>76.75</td>\n",
       "      <td>38.42</td>\n",
       "      <td>81.8</td>\n",
       "      <td>78.00</td>\n",
       "    </tr>\n",
       "    <tr>\n",
       "      <th>nl_from_en</th>\n",
       "      <td>78.85</td>\n",
       "      <td>36.83</td>\n",
       "      <td>84.8</td>\n",
       "      <td>79.22</td>\n",
       "    </tr>\n",
       "    <tr>\n",
       "      <th>sv_from_en</th>\n",
       "      <td>76.10</td>\n",
       "      <td>37.07</td>\n",
       "      <td>81.4</td>\n",
       "      <td>79.78</td>\n",
       "    </tr>\n",
       "  </tbody>\n",
       "</table>\n",
       "</div>"
      ],
      "text/plain": [
       "               paws-x   xnli  copa  belebele\n",
       "en              75.55  43.67  84.4     85.89\n",
       "en-paraphrase   69.70  44.49  80.6       NaN\n",
       "de_from_en      78.65  37.96  82.6     80.00\n",
       "it_from_en      76.75  38.42  81.8     78.00\n",
       "nl_from_en      78.85  36.83  84.8     79.22\n",
       "sv_from_en      76.10  37.07  81.4     79.78"
      ]
     },
     "metadata": {},
     "output_type": "display_data"
    }
   ],
   "source": [
    "# translate task only, keep english instruction\n",
    "all_scores, em = accuracy_benchmarks(combine=True, response_mapping=True, ablation=\"instruction\")\n",
    "display(pd.DataFrame(em))"
   ]
  },
  {
   "cell_type": "code",
   "execution_count": 22,
   "id": "9201116e",
   "metadata": {},
   "outputs": [
    {
     "data": {
      "image/png": "[encoded data removed]",
      "text/plain": [
       "<Figure size 1000x400 with 1 Axes>"
      ]
     },
     "metadata": {},
     "output_type": "display_data"
    }
   ],
   "source": [
    "# accuracy plot: main results\n",
    "\n",
    "all_scores, em = accuracy_benchmarks(combine=True, response_mapping=True)\n",
    "\n",
    "acc_df = make_df_from_table(em, score=\"accuracy\")\n",
    "tasks = acc_df['task'].unique()\n",
    "n_tasks = len(tasks)\n",
    "\n",
    "baseline_accuracies={\n",
    "    'paws-x': 50,\n",
    "    'xnli': 33,\n",
    "    'copa': 50,\n",
    "    'belebele': 25\n",
    "}\n",
    "\n",
    "figsize=(10,4)\n",
    "\n",
    "sns.set(font_scale=1.2)\n",
    "sns.set_style(\"whitegrid\")\n",
    "plt.figure(figsize=figsize)\n",
    "p = sns.color_palette('mako') \n",
    "ax = sns.barplot(data=acc_df, y=\"accuracy\", x=\"task\", hue=\"language\", palette=p) #\"muted\")#, alpha=0.5, size=10, marker=\"o\")\n",
    "plt.xticks(ticks=range(n_tasks), \n",
    "           labels=tasks, \n",
    "           rotation=30)\n",
    "\n",
    "sns.despine(left=True, right=True, top=True, bottom=False)\n",
    "\n",
    "# Update the hatches\n",
    "for i, bars in enumerate(ax.containers):\n",
    "    for bar in bars:\n",
    "        if i%6 == 0:\n",
    "            bar.set_hatch('////')\n",
    "            bar.set_edgecolor('b')\n",
    "        elif i%6 == 1:\n",
    "            bar.set_hatch(5*'x')\n",
    "            bar.set_edgecolor('b')\n",
    "\n",
    "# Insert chance accuracies\n",
    "for i, task in enumerate(tasks):\n",
    "    xmin = i/n_tasks\n",
    "    xmax = xmin+1/n_tasks\n",
    "    plt.axhline(y=baseline_accuracies[task], xmin=xmin, xmax=xmax, linewidth=2)\n",
    "\n",
    "handles, labels = ax.get_legend_handles_labels()\n",
    "labels = [\"$en$\", \"$en^P$\", \"$de^T$\", \"$it^T$\", \"$nl^T$\", \"$sv^T$\"]\n",
    "\n",
    "legend = ax.legend(handles=handles, labels=labels, title=\"sense\", ncol=3, \n",
    "                   loc='upper right', bbox_to_anchor=(1,1.31), fontsize=12)\n",
    "plt.setp(legend.get_title(), fontsize=14)\n",
    "plt.show()"
   ]
  },
  {
   "cell_type": "markdown",
   "id": "9b49f1ef",
   "metadata": {},
   "source": [
    "# translation quality"
   ]
  },
  {
   "cell_type": "code",
   "execution_count": 13,
   "id": "84e3148e",
   "metadata": {},
   "outputs": [
    {
     "data": {
      "text/plain": [
       "'bleu'"
      ]
     },
     "metadata": {},
     "output_type": "display_data"
    },
    {
     "data": {
      "text/html": [
       "<div>\n",
       "<style scoped>\n",
       "    .dataframe tbody tr th:only-of-type {\n",
       "        vertical-align: middle;\n",
       "    }\n",
       "\n",
       "    .dataframe tbody tr th {\n",
       "        vertical-align: top;\n",
       "    }\n",
       "\n",
       "    .dataframe thead th {\n",
       "        text-align: right;\n",
       "    }\n",
       "</style>\n",
       "<table border=\"1\" class=\"dataframe\">\n",
       "  <thead>\n",
       "    <tr style=\"text-align: right;\">\n",
       "      <th></th>\n",
       "      <th>paws-x</th>\n",
       "      <th>xnli</th>\n",
       "      <th>copa</th>\n",
       "      <th>belebele</th>\n",
       "    </tr>\n",
       "  </thead>\n",
       "  <tbody>\n",
       "    <tr>\n",
       "      <th>de_from_en</th>\n",
       "      <td>57.495583</td>\n",
       "      <td>41.902453</td>\n",
       "      <td>NaN</td>\n",
       "      <td>41.086900</td>\n",
       "    </tr>\n",
       "    <tr>\n",
       "      <th>it_from_en</th>\n",
       "      <td>NaN</td>\n",
       "      <td>NaN</td>\n",
       "      <td>40.941326</td>\n",
       "      <td>38.137319</td>\n",
       "    </tr>\n",
       "    <tr>\n",
       "      <th>nl_from_en</th>\n",
       "      <td>NaN</td>\n",
       "      <td>NaN</td>\n",
       "      <td>NaN</td>\n",
       "      <td>34.280127</td>\n",
       "    </tr>\n",
       "    <tr>\n",
       "      <th>sv_from_en</th>\n",
       "      <td>NaN</td>\n",
       "      <td>NaN</td>\n",
       "      <td>NaN</td>\n",
       "      <td>43.981887</td>\n",
       "    </tr>\n",
       "  </tbody>\n",
       "</table>\n",
       "</div>"
      ],
      "text/plain": [
       "               paws-x       xnli       copa   belebele\n",
       "de_from_en  57.495583  41.902453        NaN  41.086900\n",
       "it_from_en        NaN        NaN  40.941326  38.137319\n",
       "nl_from_en        NaN        NaN        NaN  34.280127\n",
       "sv_from_en        NaN        NaN        NaN  43.981887"
      ]
     },
     "metadata": {},
     "output_type": "display_data"
    }
   ],
   "source": [
    "all_scores, bleu, number_match = translation_scores(combine=True)\n",
    "display(\"bleu\", pd.DataFrame(bleu))"
   ]
  },
  {
   "cell_type": "code",
   "execution_count": 14,
   "id": "3fcedb4e",
   "metadata": {},
   "outputs": [
    {
     "data": {
      "text/plain": [
       "{'addition': {'de_from_en': 0.996,\n",
       "  'it_from_en': 0.892,\n",
       "  'nl_from_en': 0.994,\n",
       "  'sv_from_en': 0.81}}"
      ]
     },
     "execution_count": 14,
     "metadata": {},
     "output_type": "execute_result"
    }
   ],
   "source": [
    "# arithmetics: quality of number translations\n",
    "number_match"
   ]
  },
  {
   "cell_type": "code",
   "execution_count": 15,
   "id": "d1844cb5",
   "metadata": {},
   "outputs": [
    {
     "data": {
      "text/html": [
       "<div>\n",
       "<style scoped>\n",
       "    .dataframe tbody tr th:only-of-type {\n",
       "        vertical-align: middle;\n",
       "    }\n",
       "\n",
       "    .dataframe tbody tr th {\n",
       "        vertical-align: top;\n",
       "    }\n",
       "\n",
       "    .dataframe thead th {\n",
       "        text-align: right;\n",
       "    }\n",
       "</style>\n",
       "<table border=\"1\" class=\"dataframe\">\n",
       "  <thead>\n",
       "    <tr style=\"text-align: right;\">\n",
       "      <th></th>\n",
       "      <th>addition</th>\n",
       "      <th>paws-x</th>\n",
       "      <th>xnli</th>\n",
       "      <th>copa</th>\n",
       "      <th>belebele</th>\n",
       "    </tr>\n",
       "  </thead>\n",
       "  <tbody>\n",
       "    <tr>\n",
       "      <th>de_from_en</th>\n",
       "      <td>{'mean_both': 0.996, 'mean_number1': 1.0, 'mea...</td>\n",
       "      <td>{'comet': 0.8468447437733412, 'bleu': 57.49558...</td>\n",
       "      <td>{'comet': 0.8378808098281929, 'bleu': 41.90245...</td>\n",
       "      <td>NaN</td>\n",
       "      <td>{'comet': 0.8405325426326857, 'bleu': 41.08689...</td>\n",
       "    </tr>\n",
       "    <tr>\n",
       "      <th>it_from_en</th>\n",
       "      <td>{'mean_both': 0.892, 'mean_number1': 0.946, 'm...</td>\n",
       "      <td>NaN</td>\n",
       "      <td>NaN</td>\n",
       "      <td>{'comet': 0.858456480383873, 'bleu': 40.941325...</td>\n",
       "      <td>{'comet': 0.8455306703183386, 'bleu': 38.13731...</td>\n",
       "    </tr>\n",
       "    <tr>\n",
       "      <th>nl_from_en</th>\n",
       "      <td>{'mean_both': 0.994, 'mean_number1': 1.0, 'mea...</td>\n",
       "      <td>NaN</td>\n",
       "      <td>NaN</td>\n",
       "      <td>NaN</td>\n",
       "      <td>{'comet': 0.8483672199977769, 'bleu': 34.28012...</td>\n",
       "    </tr>\n",
       "    <tr>\n",
       "      <th>sv_from_en</th>\n",
       "      <td>{'mean_both': 0.81, 'mean_number1': 0.9, 'mean...</td>\n",
       "      <td>NaN</td>\n",
       "      <td>NaN</td>\n",
       "      <td>NaN</td>\n",
       "      <td>{'comet': 0.8638584978050656, 'bleu': 43.98188...</td>\n",
       "    </tr>\n",
       "  </tbody>\n",
       "</table>\n",
       "</div>"
      ],
      "text/plain": [
       "                                                     addition  \\\n",
       "de_from_en  {'mean_both': 0.996, 'mean_number1': 1.0, 'mea...   \n",
       "it_from_en  {'mean_both': 0.892, 'mean_number1': 0.946, 'm...   \n",
       "nl_from_en  {'mean_both': 0.994, 'mean_number1': 1.0, 'mea...   \n",
       "sv_from_en  {'mean_both': 0.81, 'mean_number1': 0.9, 'mean...   \n",
       "\n",
       "                                                       paws-x  \\\n",
       "de_from_en  {'comet': 0.8468447437733412, 'bleu': 57.49558...   \n",
       "it_from_en                                                NaN   \n",
       "nl_from_en                                                NaN   \n",
       "sv_from_en                                                NaN   \n",
       "\n",
       "                                                         xnli  \\\n",
       "de_from_en  {'comet': 0.8378808098281929, 'bleu': 41.90245...   \n",
       "it_from_en                                                NaN   \n",
       "nl_from_en                                                NaN   \n",
       "sv_from_en                                                NaN   \n",
       "\n",
       "                                                         copa  \\\n",
       "de_from_en                                                NaN   \n",
       "it_from_en  {'comet': 0.858456480383873, 'bleu': 40.941325...   \n",
       "nl_from_en                                                NaN   \n",
       "sv_from_en                                                NaN   \n",
       "\n",
       "                                                     belebele  \n",
       "de_from_en  {'comet': 0.8405325426326857, 'bleu': 41.08689...  \n",
       "it_from_en  {'comet': 0.8455306703183386, 'bleu': 38.13731...  \n",
       "nl_from_en  {'comet': 0.8483672199977769, 'bleu': 34.28012...  \n",
       "sv_from_en  {'comet': 0.8638584978050656, 'bleu': 43.98188...  "
      ]
     },
     "metadata": {},
     "output_type": "display_data"
    }
   ],
   "source": [
    "display(pd.DataFrame(all_scores))"
   ]
  },
  {
   "cell_type": "markdown",
   "id": "a3a17071",
   "metadata": {},
   "source": [
    "# consistency"
   ]
  },
  {
   "cell_type": "markdown",
   "id": "0e3c94d7",
   "metadata": {},
   "source": [
    "#### main consistency scores"
   ]
  },
  {
   "cell_type": "code",
   "execution_count": 9,
   "id": "970a4c7a",
   "metadata": {},
   "outputs": [
    {
     "data": {
      "text/html": [
       "<div>\n",
       "<style scoped>\n",
       "    .dataframe tbody tr th:only-of-type {\n",
       "        vertical-align: middle;\n",
       "    }\n",
       "\n",
       "    .dataframe tbody tr th {\n",
       "        vertical-align: top;\n",
       "    }\n",
       "\n",
       "    .dataframe thead th {\n",
       "        text-align: right;\n",
       "    }\n",
       "</style>\n",
       "<table border=\"1\" class=\"dataframe\">\n",
       "  <thead>\n",
       "    <tr style=\"text-align: right;\">\n",
       "      <th></th>\n",
       "      <th>paws-x</th>\n",
       "      <th>xnli</th>\n",
       "      <th>copa</th>\n",
       "      <th>belebele</th>\n",
       "    </tr>\n",
       "  </thead>\n",
       "  <tbody>\n",
       "    <tr>\n",
       "      <th>en</th>\n",
       "      <td>95.15</td>\n",
       "      <td>95.988024</td>\n",
       "      <td>96.8</td>\n",
       "      <td>97.111111</td>\n",
       "    </tr>\n",
       "    <tr>\n",
       "      <th>en-paraphrase</th>\n",
       "      <td>76.50</td>\n",
       "      <td>56.267465</td>\n",
       "      <td>85.2</td>\n",
       "      <td>NaN</td>\n",
       "    </tr>\n",
       "    <tr>\n",
       "      <th>de_from_en</th>\n",
       "      <td>74.65</td>\n",
       "      <td>51.177645</td>\n",
       "      <td>88.8</td>\n",
       "      <td>84.666667</td>\n",
       "    </tr>\n",
       "    <tr>\n",
       "      <th>it_from_en</th>\n",
       "      <td>82.15</td>\n",
       "      <td>57.524950</td>\n",
       "      <td>85.8</td>\n",
       "      <td>85.111111</td>\n",
       "    </tr>\n",
       "    <tr>\n",
       "      <th>nl_from_en</th>\n",
       "      <td>82.40</td>\n",
       "      <td>73.073852</td>\n",
       "      <td>91.0</td>\n",
       "      <td>85.777778</td>\n",
       "    </tr>\n",
       "    <tr>\n",
       "      <th>sv_from_en</th>\n",
       "      <td>67.85</td>\n",
       "      <td>82.834331</td>\n",
       "      <td>86.0</td>\n",
       "      <td>83.333333</td>\n",
       "    </tr>\n",
       "  </tbody>\n",
       "</table>\n",
       "</div>"
      ],
      "text/plain": [
       "               paws-x       xnli  copa   belebele\n",
       "en              95.15  95.988024  96.8  97.111111\n",
       "en-paraphrase   76.50  56.267465  85.2        NaN\n",
       "de_from_en      74.65  51.177645  88.8  84.666667\n",
       "it_from_en      82.15  57.524950  85.8  85.111111\n",
       "nl_from_en      82.40  73.073852  91.0  85.777778\n",
       "sv_from_en      67.85  82.834331  86.0  83.333333"
      ]
     },
     "metadata": {},
     "output_type": "display_data"
    }
   ],
   "source": [
    "C = consistency_benchmarks(combine=True, response_mapping=True)\n",
    "display(pd.DataFrame(C))"
   ]
  },
  {
   "cell_type": "code",
   "execution_count": 10,
   "id": "461b57ad",
   "metadata": {},
   "outputs": [
    {
     "data": {
      "text/plain": [
       "en               96.262284\n",
       "en-paraphrase    72.655822\n",
       "de_from_en       74.823578\n",
       "it_from_en       77.646515\n",
       "nl_from_en       83.062908\n",
       "sv_from_en       80.004416\n",
       "dtype: float64"
      ]
     },
     "metadata": {},
     "output_type": "display_data"
    }
   ],
   "source": [
    "# average\n",
    "display(pd.DataFrame(C).mean(axis=1))"
   ]
  },
  {
   "cell_type": "markdown",
   "id": "f1e8eb98",
   "metadata": {},
   "source": [
    "#### consistency ablations"
   ]
  },
  {
   "cell_type": "code",
   "execution_count": 36,
   "id": "b71c43ac",
   "metadata": {},
   "outputs": [
    {
     "data": {
      "text/html": [
       "<div>\n",
       "<style scoped>\n",
       "    .dataframe tbody tr th:only-of-type {\n",
       "        vertical-align: middle;\n",
       "    }\n",
       "\n",
       "    .dataframe tbody tr th {\n",
       "        vertical-align: top;\n",
       "    }\n",
       "\n",
       "    .dataframe thead th {\n",
       "        text-align: right;\n",
       "    }\n",
       "</style>\n",
       "<table border=\"1\" class=\"dataframe\">\n",
       "  <thead>\n",
       "    <tr style=\"text-align: right;\">\n",
       "      <th></th>\n",
       "      <th>paws-x</th>\n",
       "      <th>xnli</th>\n",
       "      <th>copa</th>\n",
       "      <th>belebele</th>\n",
       "    </tr>\n",
       "  </thead>\n",
       "  <tbody>\n",
       "    <tr>\n",
       "      <th>en</th>\n",
       "      <td>95.15</td>\n",
       "      <td>95.988024</td>\n",
       "      <td>96.8</td>\n",
       "      <td>97.111111</td>\n",
       "    </tr>\n",
       "    <tr>\n",
       "      <th>en-paraphrase</th>\n",
       "      <td>78.35</td>\n",
       "      <td>86.746507</td>\n",
       "      <td>87.0</td>\n",
       "      <td>NaN</td>\n",
       "    </tr>\n",
       "    <tr>\n",
       "      <th>de_from_en</th>\n",
       "      <td>81.10</td>\n",
       "      <td>88.463074</td>\n",
       "      <td>88.6</td>\n",
       "      <td>84.666667</td>\n",
       "    </tr>\n",
       "    <tr>\n",
       "      <th>it_from_en</th>\n",
       "      <td>82.00</td>\n",
       "      <td>88.922156</td>\n",
       "      <td>86.2</td>\n",
       "      <td>83.333333</td>\n",
       "    </tr>\n",
       "    <tr>\n",
       "      <th>nl_from_en</th>\n",
       "      <td>83.30</td>\n",
       "      <td>88.642715</td>\n",
       "      <td>90.0</td>\n",
       "      <td>86.666667</td>\n",
       "    </tr>\n",
       "    <tr>\n",
       "      <th>sv_from_en</th>\n",
       "      <td>80.25</td>\n",
       "      <td>88.642715</td>\n",
       "      <td>87.4</td>\n",
       "      <td>84.888889</td>\n",
       "    </tr>\n",
       "  </tbody>\n",
       "</table>\n",
       "</div>"
      ],
      "text/plain": [
       "               paws-x       xnli  copa   belebele\n",
       "en              95.15  95.988024  96.8  97.111111\n",
       "en-paraphrase   78.35  86.746507  87.0        NaN\n",
       "de_from_en      81.10  88.463074  88.6  84.666667\n",
       "it_from_en      82.00  88.922156  86.2  83.333333\n",
       "nl_from_en      83.30  88.642715  90.0  86.666667\n",
       "sv_from_en      80.25  88.642715  87.4  84.888889"
      ]
     },
     "metadata": {},
     "output_type": "display_data"
    }
   ],
   "source": [
    "# translate input data only\n",
    "C_instruction = pd.DataFrame(consistency_benchmarks(combine=True, response_mapping=True, ablation=\"instruction\"))\n",
    "display(pd.DataFrame(C_instruction))"
   ]
  },
  {
   "cell_type": "code",
   "execution_count": 12,
   "id": "20d20d62",
   "metadata": {},
   "outputs": [
    {
     "data": {
      "text/html": [
       "<div>\n",
       "<style scoped>\n",
       "    .dataframe tbody tr th:only-of-type {\n",
       "        vertical-align: middle;\n",
       "    }\n",
       "\n",
       "    .dataframe tbody tr th {\n",
       "        vertical-align: top;\n",
       "    }\n",
       "\n",
       "    .dataframe thead th {\n",
       "        text-align: right;\n",
       "    }\n",
       "</style>\n",
       "<table border=\"1\" class=\"dataframe\">\n",
       "  <thead>\n",
       "    <tr style=\"text-align: right;\">\n",
       "      <th></th>\n",
       "      <th>paws-x</th>\n",
       "      <th>xnli</th>\n",
       "      <th>copa</th>\n",
       "      <th>belebele</th>\n",
       "    </tr>\n",
       "  </thead>\n",
       "  <tbody>\n",
       "    <tr>\n",
       "      <th>en</th>\n",
       "      <td>95.15</td>\n",
       "      <td>95.988024</td>\n",
       "      <td>96.8</td>\n",
       "      <td>97.111111</td>\n",
       "    </tr>\n",
       "    <tr>\n",
       "      <th>en-paraphrase</th>\n",
       "      <td>89.45</td>\n",
       "      <td>63.972056</td>\n",
       "      <td>90.2</td>\n",
       "      <td>94.444444</td>\n",
       "    </tr>\n",
       "    <tr>\n",
       "      <th>de_from_en</th>\n",
       "      <td>77.80</td>\n",
       "      <td>57.864271</td>\n",
       "      <td>94.0</td>\n",
       "      <td>94.111111</td>\n",
       "    </tr>\n",
       "    <tr>\n",
       "      <th>it_from_en</th>\n",
       "      <td>91.15</td>\n",
       "      <td>60.878244</td>\n",
       "      <td>91.8</td>\n",
       "      <td>94.444444</td>\n",
       "    </tr>\n",
       "    <tr>\n",
       "      <th>nl_from_en</th>\n",
       "      <td>86.35</td>\n",
       "      <td>77.924152</td>\n",
       "      <td>93.2</td>\n",
       "      <td>94.111111</td>\n",
       "    </tr>\n",
       "    <tr>\n",
       "      <th>sv_from_en</th>\n",
       "      <td>72.65</td>\n",
       "      <td>82.415170</td>\n",
       "      <td>91.0</td>\n",
       "      <td>94.222222</td>\n",
       "    </tr>\n",
       "  </tbody>\n",
       "</table>\n",
       "</div>"
      ],
      "text/plain": [
       "               paws-x       xnli  copa   belebele\n",
       "en              95.15  95.988024  96.8  97.111111\n",
       "en-paraphrase   89.45  63.972056  90.2  94.444444\n",
       "de_from_en      77.80  57.864271  94.0  94.111111\n",
       "it_from_en      91.15  60.878244  91.8  94.444444\n",
       "nl_from_en      86.35  77.924152  93.2  94.111111\n",
       "sv_from_en      72.65  82.415170  91.0  94.222222"
      ]
     },
     "metadata": {},
     "output_type": "display_data"
    }
   ],
   "source": [
    "# translate instruction only\n",
    "C_task = pd.DataFrame(consistency_benchmarks(combine=False, response_mapping=True, ablation=\"task\"))\n",
    "display(pd.DataFrame(C_task))"
   ]
  },
  {
   "cell_type": "markdown",
   "id": "3ec0aacd",
   "metadata": {},
   "source": [
    "#### consistency external translations"
   ]
  },
  {
   "cell_type": "code",
   "execution_count": 38,
   "id": "a33252f9",
   "metadata": {},
   "outputs": [
    {
     "data": {
      "text/html": [
       "<div>\n",
       "<style scoped>\n",
       "    .dataframe tbody tr th:only-of-type {\n",
       "        vertical-align: middle;\n",
       "    }\n",
       "\n",
       "    .dataframe tbody tr th {\n",
       "        vertical-align: top;\n",
       "    }\n",
       "\n",
       "    .dataframe thead th {\n",
       "        text-align: right;\n",
       "    }\n",
       "</style>\n",
       "<table border=\"1\" class=\"dataframe\">\n",
       "  <thead>\n",
       "    <tr style=\"text-align: right;\">\n",
       "      <th></th>\n",
       "      <th>paws-x</th>\n",
       "      <th>xnli</th>\n",
       "      <th>copa</th>\n",
       "      <th>belebele</th>\n",
       "    </tr>\n",
       "  </thead>\n",
       "  <tbody>\n",
       "    <tr>\n",
       "      <th>de</th>\n",
       "      <td>69.4</td>\n",
       "      <td>51.876248</td>\n",
       "      <td>NaN</td>\n",
       "      <td>84.222222</td>\n",
       "    </tr>\n",
       "    <tr>\n",
       "      <th>it</th>\n",
       "      <td>NaN</td>\n",
       "      <td>NaN</td>\n",
       "      <td>85.4</td>\n",
       "      <td>82.000000</td>\n",
       "    </tr>\n",
       "    <tr>\n",
       "      <th>nl</th>\n",
       "      <td>NaN</td>\n",
       "      <td>NaN</td>\n",
       "      <td>NaN</td>\n",
       "      <td>82.222222</td>\n",
       "    </tr>\n",
       "    <tr>\n",
       "      <th>sv</th>\n",
       "      <td>NaN</td>\n",
       "      <td>NaN</td>\n",
       "      <td>NaN</td>\n",
       "      <td>81.777778</td>\n",
       "    </tr>\n",
       "  </tbody>\n",
       "</table>\n",
       "</div>"
      ],
      "text/plain": [
       "    paws-x       xnli  copa   belebele\n",
       "de    69.4  51.876248   NaN  84.222222\n",
       "it     NaN        NaN  85.4  82.000000\n",
       "nl     NaN        NaN   NaN  82.222222\n",
       "sv     NaN        NaN   NaN  81.777778"
      ]
     },
     "metadata": {},
     "output_type": "display_data"
    }
   ],
   "source": [
    "display(pd.DataFrame(consistency_benchmarks(combine=False, response_mapping=True, external=True)))"
   ]
  },
  {
   "cell_type": "code",
   "execution_count": 21,
   "id": "643838c5",
   "metadata": {},
   "outputs": [
    {
     "data": {
      "text/plain": [
       "array([-5.25,   nan,   nan,   nan,  0.7 ,   nan,   nan,   nan,   nan,\n",
       "       -0.4 ,   nan,   nan, -0.44, -3.11, -3.56, -1.56])"
      ]
     },
     "metadata": {},
     "output_type": "display_data"
    }
   ],
   "source": [
    "C_internal = pd.DataFrame(consistency_benchmarks(combine=True, response_mapping=True))\n",
    "C_external = pd.DataFrame(consistency_benchmarks(combine=False, response_mapping=True, external=True))\n",
    "differences = []\n",
    "for task in [\"paws-x\", \"xnli\", \"copa\", \"belebele\"]:\n",
    "    differences += list(C_external[task].values - C_internal[task].values[2:])\n",
    "display(np.round(differences, 2))"
   ]
  },
  {
   "cell_type": "code",
   "execution_count": 22,
   "id": "7b83f547",
   "metadata": {},
   "outputs": [],
   "source": [
    "#PAWS:       74.7 versus 69.4\n",
    "#XNLI:       51.2 versus 51.9\n",
    "#COPA:       85.8 versus 85.4\n",
    "#BELEBELE:   84.7 versus 84.2\n",
    "#            85.1 versus 82.0\n",
    "#            85.8 versus 82.2\n",
    "#            83.3 versus 81.8"
   ]
  },
  {
   "cell_type": "code",
   "execution_count": 23,
   "id": "7f7d7708",
   "metadata": {},
   "outputs": [
    {
     "data": {
      "image/png": "[encoded data removed]",
      "text/plain": [
       "<Figure size 1000x400 with 1 Axes>"
      ]
     },
     "metadata": {},
     "output_type": "display_data"
    }
   ],
   "source": [
    "# consistency plot\n",
    "\n",
    "C = consistency_benchmarks(combine=True, response_mapping=True)\n",
    "consistency_df = make_df_from_table(C, score=\"consistency\")\n",
    "\n",
    "plot_tasks = acc_df['task'].unique()\n",
    "n_tasks = len(tasks)\n",
    "\n",
    "sns.set(font_scale=1.2)\n",
    "figsize=(10,4)\n",
    "n_tasks = len(plot_tasks)\n",
    "sns.set_style(\"whitegrid\")\n",
    "plt.figure(figsize=figsize)\n",
    "p = sns.color_palette('rocket_r') \n",
    "ax = sns.barplot(data=consistency_df, y=\"consistency\", x=\"task\", hue=\"language\", palette=p) #\"muted\")#, alpha=0.5, size=10, marker=\"o\")\n",
    "plt.xticks(ticks=range(n_tasks), \n",
    "           labels=plot_tasks,\n",
    "           rotation=30)\n",
    "\n",
    "sns.despine(left=True, right=True, top=True, bottom=False)\n",
    "\n",
    "# Loop over df to add upper- and lower accuracy lines\n",
    "linecolor='white'   # Find correct RGB, beige may be nicer\n",
    "bar_width = ax.patches[0].get_width()/n_tasks\n",
    "\n",
    "# get bar x coordinates\n",
    "bar_coords = []\n",
    "for bar in ax.patches:\n",
    "    bar_coords.append(bar.get_x()/figsize[1])\n",
    "\n",
    "for i, task in enumerate(plot_tasks):\n",
    "    # Get base accuracy\n",
    "    acc_base = acc_df[(acc_df['task']==task) & (acc_df['language'] == 'en')]['accuracy'].iloc[0]\n",
    "    for j, language in enumerate(consistency_df['language'].unique()):\n",
    "        if language == 'en':\n",
    "            acc2 = {'paws-x': 74.7, 'xnli': 43.89, 'copa': 85.6, 'belebele': 85.78}[task]\n",
    "        else:\n",
    "            try:\n",
    "                acc2 = acc_df[(acc_df['task']==task) & (acc_df['language'] == language)]['accuracy'].iloc[0]\n",
    "            except:\n",
    "                continue\n",
    "\n",
    "        # Compute values and plot them\n",
    "        # NB this is an overestimation which assumes that \n",
    "        # Answers that are both wrong are inconsistent\n",
    "        max_consistency = fully_consistent(acc_base, acc2)\n",
    "        xmin = 0.028+i/n_tasks+j*bar_width*1.020\n",
    "        plt.axhline(y=max_consistency, xmin=xmin, xmax=xmin+bar_width*0.8, linewidth=2)\n",
    "\n",
    "# plt.axhline(y=0.2, xmin=-0.1, xmax=xmin+bar_width, linewidth=2)\n",
    "handles, labels = ax.get_legend_handles_labels()\n",
    "labels = [\"$en_{id}$\", \"$en^P$\", \"$de^T$\", \"$it^T$\", \"$nl^T$\", \"$sv^T$\"]\n",
    "\n",
    "legend = ax.legend(handles=handles, labels=labels, title=\"sense\", ncol=3, \n",
    "                   loc='upper right', bbox_to_anchor=(1,1.4), fontsize=12)\n",
    "plt.setp(legend.get_title(), fontsize=14)\n",
    "plt.show()"
   ]
  },
  {
   "cell_type": "markdown",
   "id": "ea7f8dc8",
   "metadata": {},
   "source": [
    "## conditional consistencies "
   ]
  },
  {
   "cell_type": "code",
   "execution_count": 24,
   "id": "f52e6b01",
   "metadata": {},
   "outputs": [],
   "source": [
    "def get_conditional_consistency(consistency, correct_source):\n",
    "    \n",
    "    conditional_consistency = {\"task\": [], \"language\": [], \"consistency\": [], \"correct\": []}\n",
    "\n",
    "    \n",
    "    for collection, task in collection_task:\n",
    "        \n",
    "        for language in [\"en\", \"en-paraphrase\", \"de_from_en\", \"it_from_en\", \"nl_from_en\", \"sv_from_en\"]:\n",
    "            \n",
    "            try:\n",
    "                consistency_tmp = consistency[task][language]\n",
    "                correct_src_tmp = correct_source[task][language]\n",
    "            except:\n",
    "                continue\n",
    "                \n",
    "            n = len(consistency_tmp)\n",
    "            \n",
    "            consistent_correct = np.mean([consistency_tmp[i] for i in range(n) if correct_src_tmp[i]])\n",
    "            consistent_false = np.mean([consistency_tmp[i] for i in range(n) if not correct_src_tmp[i]])\n",
    "            \n",
    "            conditional_consistency[\"task\"] += [task, task]\n",
    "            conditional_consistency[\"language\"] += [language, language]\n",
    "            conditional_consistency[\"consistency\"] += [consistent_correct, consistent_false]\n",
    "            conditional_consistency[\"correct\"] += [\"correct\", \"incorrect\"]\n",
    "\n",
    "    return pd.DataFrame(conditional_consistency)"
   ]
  },
  {
   "cell_type": "code",
   "execution_count": 25,
   "id": "923c03d5",
   "metadata": {},
   "outputs": [
    {
     "name": "stderr",
     "output_type": "stream",
     "text": [
      "Found cached dataset paws-x (C:/Users/Xenia/.cache/huggingface/datasets/paws-x/en/1.1.0/37673404a6de6d0fa2574661e77940d10d3be3bf51bb4f08c8fa079fd56b9755)\n",
      "Using the latest cached version of the module from C:\\Users\\Xenia\\.cache\\huggingface\\modules\\datasets_modules\\datasets\\xglue\\8566eedecd9ab28e01c051c023dadf97bf408e5195f76b06aba70ebd4697ae08 (last modified on Thu Mar  9 12:03:53 2023) since it couldn't be found locally at xglue., or remotely on the Hugging Face Hub.\n",
      "Found cached dataset xglue (C:/Users/Xenia/.cache/huggingface/datasets/xglue/xnli/1.0.0/8566eedecd9ab28e01c051c023dadf97bf408e5195f76b06aba70ebd4697ae08)\n",
      "Found cached dataset super_glue (C:/Users/Xenia/.cache/huggingface/datasets/super_glue/copa/1.0.3/bb9675f958ebfee0d5d6dc5476fafe38c79123727a7258d515c450873dbdbbed)\n",
      "Found cached dataset xcopa (C:/Users/Xenia/.cache/huggingface/datasets/xcopa/it/1.1.0/505fce04b4f84b21d9e0d90c69f2090019d25733bd4cddd061b3ff802856214d)\n",
      "Found cached dataset belebele (C:/Users/Xenia/.cache/huggingface/datasets/facebook___belebele/eng_Latn/0.0.0/852757217bbf13c7b09f4695aa12adc4104bb53c8bae89cb54637962d625832c)\n"
     ]
    },
    {
     "data": {
      "text/html": [
       "<div>\n",
       "<style scoped>\n",
       "    .dataframe tbody tr th:only-of-type {\n",
       "        vertical-align: middle;\n",
       "    }\n",
       "\n",
       "    .dataframe tbody tr th {\n",
       "        vertical-align: top;\n",
       "    }\n",
       "\n",
       "    .dataframe thead th {\n",
       "        text-align: right;\n",
       "    }\n",
       "</style>\n",
       "<table border=\"1\" class=\"dataframe\">\n",
       "  <thead>\n",
       "    <tr style=\"text-align: right;\">\n",
       "      <th></th>\n",
       "      <th>task</th>\n",
       "      <th>language</th>\n",
       "      <th>consistency</th>\n",
       "      <th>correct</th>\n",
       "    </tr>\n",
       "  </thead>\n",
       "  <tbody>\n",
       "    <tr>\n",
       "      <th>0</th>\n",
       "      <td>paws-x</td>\n",
       "      <td>en</td>\n",
       "      <td>0.962277</td>\n",
       "      <td>correct</td>\n",
       "    </tr>\n",
       "    <tr>\n",
       "      <th>1</th>\n",
       "      <td>paws-x</td>\n",
       "      <td>en</td>\n",
       "      <td>0.918200</td>\n",
       "      <td>incorrect</td>\n",
       "    </tr>\n",
       "    <tr>\n",
       "      <th>2</th>\n",
       "      <td>paws-x</td>\n",
       "      <td>en-paraphrase</td>\n",
       "      <td>0.791529</td>\n",
       "      <td>correct</td>\n",
       "    </tr>\n",
       "    <tr>\n",
       "      <th>3</th>\n",
       "      <td>paws-x</td>\n",
       "      <td>en-paraphrase</td>\n",
       "      <td>0.683027</td>\n",
       "      <td>incorrect</td>\n",
       "    </tr>\n",
       "    <tr>\n",
       "      <th>4</th>\n",
       "      <td>paws-x</td>\n",
       "      <td>de_from_en</td>\n",
       "      <td>0.757776</td>\n",
       "      <td>correct</td>\n",
       "    </tr>\n",
       "    <tr>\n",
       "      <th>5</th>\n",
       "      <td>paws-x</td>\n",
       "      <td>de_from_en</td>\n",
       "      <td>0.711656</td>\n",
       "      <td>incorrect</td>\n",
       "    </tr>\n",
       "    <tr>\n",
       "      <th>6</th>\n",
       "      <td>paws-x</td>\n",
       "      <td>it_from_en</td>\n",
       "      <td>0.878888</td>\n",
       "      <td>correct</td>\n",
       "    </tr>\n",
       "    <tr>\n",
       "      <th>7</th>\n",
       "      <td>paws-x</td>\n",
       "      <td>it_from_en</td>\n",
       "      <td>0.644172</td>\n",
       "      <td>incorrect</td>\n",
       "    </tr>\n",
       "    <tr>\n",
       "      <th>8</th>\n",
       "      <td>paws-x</td>\n",
       "      <td>nl_from_en</td>\n",
       "      <td>0.859034</td>\n",
       "      <td>correct</td>\n",
       "    </tr>\n",
       "    <tr>\n",
       "      <th>9</th>\n",
       "      <td>paws-x</td>\n",
       "      <td>nl_from_en</td>\n",
       "      <td>0.715746</td>\n",
       "      <td>incorrect</td>\n",
       "    </tr>\n",
       "    <tr>\n",
       "      <th>10</th>\n",
       "      <td>paws-x</td>\n",
       "      <td>sv_from_en</td>\n",
       "      <td>0.657181</td>\n",
       "      <td>correct</td>\n",
       "    </tr>\n",
       "    <tr>\n",
       "      <th>11</th>\n",
       "      <td>paws-x</td>\n",
       "      <td>sv_from_en</td>\n",
       "      <td>0.744376</td>\n",
       "      <td>incorrect</td>\n",
       "    </tr>\n",
       "    <tr>\n",
       "      <th>12</th>\n",
       "      <td>xnli</td>\n",
       "      <td>en</td>\n",
       "      <td>0.960695</td>\n",
       "      <td>correct</td>\n",
       "    </tr>\n",
       "    <tr>\n",
       "      <th>13</th>\n",
       "      <td>xnli</td>\n",
       "      <td>en</td>\n",
       "      <td>0.959249</td>\n",
       "      <td>incorrect</td>\n",
       "    </tr>\n",
       "    <tr>\n",
       "      <th>14</th>\n",
       "      <td>xnli</td>\n",
       "      <td>en-paraphrase</td>\n",
       "      <td>0.664077</td>\n",
       "      <td>correct</td>\n",
       "    </tr>\n",
       "    <tr>\n",
       "      <th>15</th>\n",
       "      <td>xnli</td>\n",
       "      <td>en-paraphrase</td>\n",
       "      <td>0.484054</td>\n",
       "      <td>incorrect</td>\n",
       "    </tr>\n",
       "    <tr>\n",
       "      <th>16</th>\n",
       "      <td>xnli</td>\n",
       "      <td>de_from_en</td>\n",
       "      <td>0.623857</td>\n",
       "      <td>correct</td>\n",
       "    </tr>\n",
       "    <tr>\n",
       "      <th>17</th>\n",
       "      <td>xnli</td>\n",
       "      <td>de_from_en</td>\n",
       "      <td>0.424876</td>\n",
       "      <td>incorrect</td>\n",
       "    </tr>\n",
       "    <tr>\n",
       "      <th>18</th>\n",
       "      <td>xnli</td>\n",
       "      <td>it_from_en</td>\n",
       "      <td>0.712066</td>\n",
       "      <td>correct</td>\n",
       "    </tr>\n",
       "    <tr>\n",
       "      <th>19</th>\n",
       "      <td>xnli</td>\n",
       "      <td>it_from_en</td>\n",
       "      <td>0.469171</td>\n",
       "      <td>incorrect</td>\n",
       "    </tr>\n",
       "    <tr>\n",
       "      <th>20</th>\n",
       "      <td>xnli</td>\n",
       "      <td>nl_from_en</td>\n",
       "      <td>0.813071</td>\n",
       "      <td>correct</td>\n",
       "    </tr>\n",
       "    <tr>\n",
       "      <th>21</th>\n",
       "      <td>xnli</td>\n",
       "      <td>nl_from_en</td>\n",
       "      <td>0.666903</td>\n",
       "      <td>incorrect</td>\n",
       "    </tr>\n",
       "    <tr>\n",
       "      <th>22</th>\n",
       "      <td>xnli</td>\n",
       "      <td>sv_from_en</td>\n",
       "      <td>0.867459</td>\n",
       "      <td>correct</td>\n",
       "    </tr>\n",
       "    <tr>\n",
       "      <th>23</th>\n",
       "      <td>xnli</td>\n",
       "      <td>sv_from_en</td>\n",
       "      <td>0.798016</td>\n",
       "      <td>incorrect</td>\n",
       "    </tr>\n",
       "    <tr>\n",
       "      <th>24</th>\n",
       "      <td>copa</td>\n",
       "      <td>en</td>\n",
       "      <td>0.988152</td>\n",
       "      <td>correct</td>\n",
       "    </tr>\n",
       "    <tr>\n",
       "      <th>25</th>\n",
       "      <td>copa</td>\n",
       "      <td>en</td>\n",
       "      <td>0.858974</td>\n",
       "      <td>incorrect</td>\n",
       "    </tr>\n",
       "    <tr>\n",
       "      <th>26</th>\n",
       "      <td>copa</td>\n",
       "      <td>en-paraphrase</td>\n",
       "      <td>0.919431</td>\n",
       "      <td>correct</td>\n",
       "    </tr>\n",
       "    <tr>\n",
       "      <th>27</th>\n",
       "      <td>copa</td>\n",
       "      <td>en-paraphrase</td>\n",
       "      <td>0.487179</td>\n",
       "      <td>incorrect</td>\n",
       "    </tr>\n",
       "    <tr>\n",
       "      <th>28</th>\n",
       "      <td>copa</td>\n",
       "      <td>de_from_en</td>\n",
       "      <td>0.940758</td>\n",
       "      <td>correct</td>\n",
       "    </tr>\n",
       "    <tr>\n",
       "      <th>29</th>\n",
       "      <td>copa</td>\n",
       "      <td>de_from_en</td>\n",
       "      <td>0.602564</td>\n",
       "      <td>incorrect</td>\n",
       "    </tr>\n",
       "    <tr>\n",
       "      <th>30</th>\n",
       "      <td>copa</td>\n",
       "      <td>it_from_en</td>\n",
       "      <td>0.928910</td>\n",
       "      <td>correct</td>\n",
       "    </tr>\n",
       "    <tr>\n",
       "      <th>31</th>\n",
       "      <td>copa</td>\n",
       "      <td>it_from_en</td>\n",
       "      <td>0.474359</td>\n",
       "      <td>incorrect</td>\n",
       "    </tr>\n",
       "    <tr>\n",
       "      <th>32</th>\n",
       "      <td>copa</td>\n",
       "      <td>nl_from_en</td>\n",
       "      <td>0.940758</td>\n",
       "      <td>correct</td>\n",
       "    </tr>\n",
       "    <tr>\n",
       "      <th>33</th>\n",
       "      <td>copa</td>\n",
       "      <td>nl_from_en</td>\n",
       "      <td>0.743590</td>\n",
       "      <td>incorrect</td>\n",
       "    </tr>\n",
       "    <tr>\n",
       "      <th>34</th>\n",
       "      <td>copa</td>\n",
       "      <td>sv_from_en</td>\n",
       "      <td>0.945498</td>\n",
       "      <td>correct</td>\n",
       "    </tr>\n",
       "    <tr>\n",
       "      <th>35</th>\n",
       "      <td>copa</td>\n",
       "      <td>sv_from_en</td>\n",
       "      <td>0.397436</td>\n",
       "      <td>incorrect</td>\n",
       "    </tr>\n",
       "    <tr>\n",
       "      <th>36</th>\n",
       "      <td>belebele</td>\n",
       "      <td>en</td>\n",
       "      <td>0.987063</td>\n",
       "      <td>correct</td>\n",
       "    </tr>\n",
       "    <tr>\n",
       "      <th>37</th>\n",
       "      <td>belebele</td>\n",
       "      <td>en</td>\n",
       "      <td>0.874016</td>\n",
       "      <td>incorrect</td>\n",
       "    </tr>\n",
       "    <tr>\n",
       "      <th>38</th>\n",
       "      <td>belebele</td>\n",
       "      <td>de_from_en</td>\n",
       "      <td>0.895213</td>\n",
       "      <td>correct</td>\n",
       "    </tr>\n",
       "    <tr>\n",
       "      <th>39</th>\n",
       "      <td>belebele</td>\n",
       "      <td>de_from_en</td>\n",
       "      <td>0.551181</td>\n",
       "      <td>incorrect</td>\n",
       "    </tr>\n",
       "    <tr>\n",
       "      <th>40</th>\n",
       "      <td>belebele</td>\n",
       "      <td>it_from_en</td>\n",
       "      <td>0.896507</td>\n",
       "      <td>correct</td>\n",
       "    </tr>\n",
       "    <tr>\n",
       "      <th>41</th>\n",
       "      <td>belebele</td>\n",
       "      <td>it_from_en</td>\n",
       "      <td>0.574803</td>\n",
       "      <td>incorrect</td>\n",
       "    </tr>\n",
       "    <tr>\n",
       "      <th>42</th>\n",
       "      <td>belebele</td>\n",
       "      <td>nl_from_en</td>\n",
       "      <td>0.890039</td>\n",
       "      <td>correct</td>\n",
       "    </tr>\n",
       "    <tr>\n",
       "      <th>43</th>\n",
       "      <td>belebele</td>\n",
       "      <td>nl_from_en</td>\n",
       "      <td>0.661417</td>\n",
       "      <td>incorrect</td>\n",
       "    </tr>\n",
       "    <tr>\n",
       "      <th>44</th>\n",
       "      <td>belebele</td>\n",
       "      <td>sv_from_en</td>\n",
       "      <td>0.877102</td>\n",
       "      <td>correct</td>\n",
       "    </tr>\n",
       "    <tr>\n",
       "      <th>45</th>\n",
       "      <td>belebele</td>\n",
       "      <td>sv_from_en</td>\n",
       "      <td>0.566929</td>\n",
       "      <td>incorrect</td>\n",
       "    </tr>\n",
       "  </tbody>\n",
       "</table>\n",
       "</div>"
      ],
      "text/plain": [
       "        task       language  consistency    correct\n",
       "0     paws-x             en     0.962277    correct\n",
       "1     paws-x             en     0.918200  incorrect\n",
       "2     paws-x  en-paraphrase     0.791529    correct\n",
       "3     paws-x  en-paraphrase     0.683027  incorrect\n",
       "4     paws-x     de_from_en     0.757776    correct\n",
       "5     paws-x     de_from_en     0.711656  incorrect\n",
       "6     paws-x     it_from_en     0.878888    correct\n",
       "7     paws-x     it_from_en     0.644172  incorrect\n",
       "8     paws-x     nl_from_en     0.859034    correct\n",
       "9     paws-x     nl_from_en     0.715746  incorrect\n",
       "10    paws-x     sv_from_en     0.657181    correct\n",
       "11    paws-x     sv_from_en     0.744376  incorrect\n",
       "12      xnli             en     0.960695    correct\n",
       "13      xnli             en     0.959249  incorrect\n",
       "14      xnli  en-paraphrase     0.664077    correct\n",
       "15      xnli  en-paraphrase     0.484054  incorrect\n",
       "16      xnli     de_from_en     0.623857    correct\n",
       "17      xnli     de_from_en     0.424876  incorrect\n",
       "18      xnli     it_from_en     0.712066    correct\n",
       "19      xnli     it_from_en     0.469171  incorrect\n",
       "20      xnli     nl_from_en     0.813071    correct\n",
       "21      xnli     nl_from_en     0.666903  incorrect\n",
       "22      xnli     sv_from_en     0.867459    correct\n",
       "23      xnli     sv_from_en     0.798016  incorrect\n",
       "24      copa             en     0.988152    correct\n",
       "25      copa             en     0.858974  incorrect\n",
       "26      copa  en-paraphrase     0.919431    correct\n",
       "27      copa  en-paraphrase     0.487179  incorrect\n",
       "28      copa     de_from_en     0.940758    correct\n",
       "29      copa     de_from_en     0.602564  incorrect\n",
       "30      copa     it_from_en     0.928910    correct\n",
       "31      copa     it_from_en     0.474359  incorrect\n",
       "32      copa     nl_from_en     0.940758    correct\n",
       "33      copa     nl_from_en     0.743590  incorrect\n",
       "34      copa     sv_from_en     0.945498    correct\n",
       "35      copa     sv_from_en     0.397436  incorrect\n",
       "36  belebele             en     0.987063    correct\n",
       "37  belebele             en     0.874016  incorrect\n",
       "38  belebele     de_from_en     0.895213    correct\n",
       "39  belebele     de_from_en     0.551181  incorrect\n",
       "40  belebele     it_from_en     0.896507    correct\n",
       "41  belebele     it_from_en     0.574803  incorrect\n",
       "42  belebele     nl_from_en     0.890039    correct\n",
       "43  belebele     nl_from_en     0.661417  incorrect\n",
       "44  belebele     sv_from_en     0.877102    correct\n",
       "45  belebele     sv_from_en     0.566929  incorrect"
      ]
     },
     "metadata": {},
     "output_type": "display_data"
    }
   ],
   "source": [
    "_, consistent, correct_src, correct_tgt = consistency_benchmarks(response_mapping=True, get_details=True)\n",
    "conditional_consistency = get_conditional_consistency(consistent, correct_src)\n",
    "display(conditional_consistency)"
   ]
  },
  {
   "cell_type": "code",
   "execution_count": 26,
   "id": "3cc1e9dd",
   "metadata": {},
   "outputs": [
    {
     "data": {
      "text/plain": [
       "array([0.96227664, 0.91820041, 0.9606947 , 0.95924876, 0.98815166,\n",
       "       0.85897436, 0.98706339, 0.87401575])"
      ]
     },
     "execution_count": 26,
     "metadata": {},
     "output_type": "execute_result"
    }
   ],
   "source": [
    "conditional_consistency[conditional_consistency[\"language\"]==\"en\"][\"consistency\"].values"
   ]
  },
  {
   "cell_type": "code",
   "execution_count": 27,
   "id": "e134eec7",
   "metadata": {},
   "outputs": [],
   "source": [
    "sns.set(font_scale=1.4)\n",
    "all_scores, em = accuracy_benchmarks(combine=True, response_mapping=True)"
   ]
  },
  {
   "cell_type": "code",
   "execution_count": 28,
   "id": "8e26f73b",
   "metadata": {},
   "outputs": [
    {
     "data": {
      "text/html": [
       "<div>\n",
       "<style scoped>\n",
       "    .dataframe tbody tr th:only-of-type {\n",
       "        vertical-align: middle;\n",
       "    }\n",
       "\n",
       "    .dataframe tbody tr th {\n",
       "        vertical-align: top;\n",
       "    }\n",
       "\n",
       "    .dataframe thead th {\n",
       "        text-align: right;\n",
       "    }\n",
       "</style>\n",
       "<table border=\"1\" class=\"dataframe\">\n",
       "  <thead>\n",
       "    <tr style=\"text-align: right;\">\n",
       "      <th></th>\n",
       "      <th>paws-x</th>\n",
       "      <th>xnli</th>\n",
       "      <th>copa</th>\n",
       "      <th>belebele</th>\n",
       "    </tr>\n",
       "  </thead>\n",
       "  <tbody>\n",
       "    <tr>\n",
       "      <th>en</th>\n",
       "      <td>75.55</td>\n",
       "      <td>43.67</td>\n",
       "      <td>84.4</td>\n",
       "      <td>85.89</td>\n",
       "    </tr>\n",
       "    <tr>\n",
       "      <th>en-paraphrase</th>\n",
       "      <td>67.55</td>\n",
       "      <td>53.49</td>\n",
       "      <td>82.2</td>\n",
       "      <td>NaN</td>\n",
       "    </tr>\n",
       "    <tr>\n",
       "      <th>de_from_en</th>\n",
       "      <td>64.30</td>\n",
       "      <td>50.00</td>\n",
       "      <td>85.6</td>\n",
       "      <td>81.22</td>\n",
       "    </tr>\n",
       "    <tr>\n",
       "      <th>it_from_en</th>\n",
       "      <td>75.10</td>\n",
       "      <td>56.35</td>\n",
       "      <td>86.6</td>\n",
       "      <td>81.00</td>\n",
       "    </tr>\n",
       "    <tr>\n",
       "      <th>nl_from_en</th>\n",
       "      <td>71.85</td>\n",
       "      <td>50.92</td>\n",
       "      <td>83.4</td>\n",
       "      <td>79.00</td>\n",
       "    </tr>\n",
       "    <tr>\n",
       "      <th>sv_from_en</th>\n",
       "      <td>55.90</td>\n",
       "      <td>46.97</td>\n",
       "      <td>89.2</td>\n",
       "      <td>79.11</td>\n",
       "    </tr>\n",
       "  </tbody>\n",
       "</table>\n",
       "</div>"
      ],
      "text/plain": [
       "               paws-x   xnli  copa  belebele\n",
       "en              75.55  43.67  84.4     85.89\n",
       "en-paraphrase   67.55  53.49  82.2       NaN\n",
       "de_from_en      64.30  50.00  85.6     81.22\n",
       "it_from_en      75.10  56.35  86.6     81.00\n",
       "nl_from_en      71.85  50.92  83.4     79.00\n",
       "sv_from_en      55.90  46.97  89.2     79.11"
      ]
     },
     "metadata": {},
     "output_type": "display_data"
    },
    {
     "data": {
      "text/plain": [
       "{'paws-x': {'en': 75.55,\n",
       "  'en-paraphrase': 67.55,\n",
       "  'de_from_en': 64.3,\n",
       "  'it_from_en': 75.1,\n",
       "  'nl_from_en': 71.85,\n",
       "  'sv_from_en': 55.9},\n",
       " 'xnli': {'en': 43.67,\n",
       "  'en-paraphrase': 53.49,\n",
       "  'de_from_en': 50.0,\n",
       "  'it_from_en': 56.35,\n",
       "  'nl_from_en': 50.92,\n",
       "  'sv_from_en': 46.97},\n",
       " 'copa': {'en': 84.4,\n",
       "  'en-paraphrase': 82.2,\n",
       "  'de_from_en': 85.6,\n",
       "  'it_from_en': 86.6,\n",
       "  'nl_from_en': 83.4,\n",
       "  'sv_from_en': 89.2},\n",
       " 'belebele': {'en': 85.89,\n",
       "  'de_from_en': 81.22,\n",
       "  'it_from_en': 81.0,\n",
       "  'nl_from_en': 79.0,\n",
       "  'sv_from_en': 79.11}}"
      ]
     },
     "metadata": {},
     "output_type": "display_data"
    },
    {
     "data": {
      "text/plain": [
       "{'paws-x': {'incorrect': 1.0, 'correct': 0.886035737921906},\n",
       " 'xnli': {'incorrect': 0.8601810758033019, 'correct': 1.0},\n",
       " 'copa': {'incorrect': 0.8948717948717952, 'correct': 0.9924170616113746},\n",
       " 'belebele': {'incorrect': 1.0, 'correct': 0.9323844452206311}}"
      ]
     },
     "metadata": {},
     "output_type": "display_data"
    }
   ],
   "source": [
    "display(pd.DataFrame(em))\n",
    "\n",
    "def max_consistencies(acc1, acc2):\n",
    "    # Compute the maximal consistencies for\n",
    "    # correct and incorrect examples, given\n",
    "    # the accuracies\n",
    "    max_correct = (acc1 - max(acc1 - acc2, 0)) / acc1\n",
    "    incor_en, incor_other = 100-acc1, 100-acc2\n",
    "    max_incorrect = (incor_en - max(incor_en - incor_other, 0)) / incor_en\n",
    "    return max_correct, max_incorrect\n",
    "\n",
    "# Compute this per task\n",
    "upper_bounds = {}\n",
    "for task, results in em.items():\n",
    "    upper_bounds[task] = {}\n",
    "    incorr = []\n",
    "    corr = []\n",
    "    for sense in ['en-paraphrase', 'de_from_en', 'it_from_en', 'nl_from_en', 'sv_from_en']:\n",
    "        if not (sense==\"en-paraphrase\" and task==\"belebele\"):\n",
    "            max_corr, max_incorr = max_consistencies(results['en'], results[sense])\n",
    "            incorr.append(max_incorr)\n",
    "            corr.append(max_corr)\n",
    "    upper_bounds[task] = {'incorrect': sum(incorr)/len(incorr), 'correct': sum(corr)/len(corr)}      \n",
    "\n",
    "display(em)\n",
    "display(upper_bounds)"
   ]
  },
  {
   "cell_type": "code",
   "execution_count": 29,
   "id": "faceab10",
   "metadata": {},
   "outputs": [
    {
     "data": {
      "image/png": "[encoded data removed]",
      "text/plain": [
       "<Figure size 640x480 with 1 Axes>"
      ]
     },
     "metadata": {},
     "output_type": "display_data"
    }
   ],
   "source": [
    "colors = sns.color_palette(\"mako\", n_colors=6)\n",
    "color1=colors[0]\n",
    "color2=colors[5]\n",
    "\n",
    "colors = sns.color_palette('rocket_r', n_colors=2)\n",
    "line_color = colors[0]\n",
    "\n",
    "sns.set_style('whitegrid')\n",
    "\n",
    "#plt.figure(figsize=(6,4))\n",
    "xvals = [-0.20, 0.23, 0.78, 1.23, 1.78, 2.22, 2.79, 3.25]\n",
    "ax1 = sns.barplot(data=conditional_consistency[conditional_consistency[\"language\"]!=\"en\"], x=\"task\", y=\"consistency\", hue=\"correct\", palette=\"mako\")\n",
    "ax3 = plt.plot(xvals, conditional_consistency[conditional_consistency[\"language\"]==\"en\"][\"consistency\"].values, linestyle=\"dotted\", marker='o', color=color2)\n",
    "\n",
    "# Add max consistencies\n",
    "for i, task in enumerate(em):\n",
    "    for j, condition in enumerate(['correct', 'incorrect']):\n",
    "        xmin = 0.05 + i/4.2 + j*0.103\n",
    "        xmax = xmin+1/12\n",
    "        plt.axhline(y=upper_bounds[task][condition], xmin=xmin, xmax=xmax, linewidth=2, color=line_color)\n",
    "\n",
    "plt.yticks([0,0.2, 0.4, 0.6, 0.8, 1])\n",
    "\n",
    "sns.despine(left=True, right=True, top=True, bottom=False)\n",
    "\n",
    "legend = plt.legend(fontsize=\"small\", bbox_to_anchor=(1,-.3), loc='lower right', ncol=2)\n",
    "plt.setp(legend.get_title(),fontsize='small')\n",
    "plt.text(0.65, 1.02, \"id baseline\", fontsize=15, color=color2)\n",
    "plt.ylim(0, 1.03)\n",
    "plt.show()"
   ]
  },
  {
   "cell_type": "markdown",
   "id": "5ebc9cc5",
   "metadata": {},
   "source": [
    "### translation quality and consistency"
   ]
  },
  {
   "cell_type": "code",
   "execution_count": 32,
   "id": "0edd9011",
   "metadata": {},
   "outputs": [],
   "source": [
    "languages = [\"de_from_en\", \"it_from_en\", \"nl_from_en\", \"sv_from_en\"]\n",
    "collection_task = ((\"individual\", \"paws-x\"),(\"xglue\", \"xnli\"),(\"superglue\", \"copa\"),(\"individual\", \"belebele\"))"
   ]
  },
  {
   "cell_type": "code",
   "execution_count": 33,
   "id": "d0444142",
   "metadata": {},
   "outputs": [
    {
     "name": "stderr",
     "output_type": "stream",
     "text": [
      "Found cached dataset paws-x (C:/Users/Xenia/.cache/huggingface/datasets/paws-x/en/1.1.0/37673404a6de6d0fa2574661e77940d10d3be3bf51bb4f08c8fa079fd56b9755)\n",
      "Found cached dataset xglue (C:/Users/Xenia/.cache/huggingface/datasets/xglue/xnli/1.0.0/8566eedecd9ab28e01c051c023dadf97bf408e5195f76b06aba70ebd4697ae08)\n",
      "Found cached dataset super_glue (C:/Users/Xenia/.cache/huggingface/datasets/super_glue/copa/1.0.3/bb9675f958ebfee0d5d6dc5476fafe38c79123727a7258d515c450873dbdbbed)\n",
      "Found cached dataset xcopa (C:/Users/Xenia/.cache/huggingface/datasets/xcopa/it/1.1.0/505fce04b4f84b21d9e0d90c69f2090019d25733bd4cddd061b3ff802856214d)\n",
      "Found cached dataset belebele (C:/Users/Xenia/.cache/huggingface/datasets/facebook___belebele/eng_Latn/0.0.0/852757217bbf13c7b09f4695aa12adc4104bb53c8bae89cb54637962d625832c)\n"
     ]
    }
   ],
   "source": [
    "_, all_consistencies, _, _ = consistency_benchmarks(combine=True, response_mapping=True, get_details=True) "
   ]
  },
  {
   "cell_type": "code",
   "execution_count": 34,
   "id": "fd766d0f",
   "metadata": {},
   "outputs": [],
   "source": [
    "from scipy.stats import pearsonr"
   ]
  },
  {
   "cell_type": "code",
   "execution_count": 35,
   "id": "53e5b40e",
   "metadata": {},
   "outputs": [
    {
     "name": "stdout",
     "output_type": "stream",
     "text": [
      "paws-x de_from_en proportion 0.5725\n",
      "xnli de_from_en proportion 0.5081836327345309\n",
      "copa it_from_en proportion 0.632\n",
      "belebele de_from_en proportion 0.4711111111111111\n",
      "belebele it_from_en proportion 0.5444444444444444\n",
      "belebele nl_from_en proportion 0.6411111111111111\n",
      "belebele sv_from_en proportion 0.79\n"
     ]
    }
   ],
   "source": [
    "threshold = 0.85\n",
    "combine_data = True\n",
    "load_name = \"translation_scores_combined.pkl\"\n",
    "comet_scores = {\"paws-x\": {}, \"xnli\": {}, \"copa\": {}, \"belebele\": {}}\n",
    "correlations = {\"paws-x\": {}, \"xnli\": {}, \"copa\": {}, \"belebele\": {}}\n",
    "threshold_consistency = {\"paws-x\": {}, \"xnli\": {}, \"copa\": {}, \"belebele\": {}}\n",
    "\n",
    "for collection, task in collection_task:\n",
    "    for language in languages:\n",
    "        path_translations = (\"translations/task/\" + collection + \"_\" + task + \n",
    "                            \"/temp-0.2_topp-1.0_maxt-2048/combined_\" + str(combine_data) \n",
    "                             + \"/\" + language + \"/\")\n",
    "        try:\n",
    "            with open(path_translations + load_name, \"rb\") as f:\n",
    "                comet_all = pickle.load(f)[\"comet_all\"][\"scores\"]\n",
    "        except:\n",
    "            continue  \n",
    "        n = len(comet_all)\n",
    "        comet_scores[task][language] = comet_all\n",
    "        consistencies = [int(c) for c in all_consistencies[task][language]]\n",
    "        correlations[task][language] = pearsonr(comet_all, y=consistencies)\n",
    "        print(task, language, \"proportion\", np.sum(np.array(comet_all)>threshold)/n)\n",
    "        threshold_consistency[task][language] = np.mean([consistencies[i] for i in range(n) if comet_all[i] > threshold])"
   ]
  },
  {
   "cell_type": "markdown",
   "id": "9eb92cd9",
   "metadata": {},
   "source": [
    "#### correlation between consistency and translation quality"
   ]
  },
  {
   "cell_type": "code",
   "execution_count": 36,
   "id": "e3d9933b",
   "metadata": {},
   "outputs": [
    {
     "data": {
      "text/plain": [
       "{'paws-x': {'de_from_en': PearsonRResult(statistic=0.11019461640265332, pvalue=7.81134674306328e-07)},\n",
       " 'xnli': {'de_from_en': PearsonRResult(statistic=-0.06161852020477984, pvalue=1.2741300623033925e-05)},\n",
       " 'copa': {'it_from_en': PearsonRResult(statistic=0.07405158541594925, pvalue=0.09813343154474194)},\n",
       " 'belebele': {'de_from_en': PearsonRResult(statistic=0.13126631718543644, pvalue=7.827591905897604e-05),\n",
       "  'it_from_en': PearsonRResult(statistic=0.11083047813127797, pvalue=0.0008667181443522709),\n",
       "  'nl_from_en': PearsonRResult(statistic=0.07881100098507429, pvalue=0.01804355694570104),\n",
       "  'sv_from_en': PearsonRResult(statistic=0.21205580922896963, pvalue=1.3096070999163288e-10)}}"
      ]
     },
     "execution_count": 36,
     "metadata": {},
     "output_type": "execute_result"
    }
   ],
   "source": [
    "correlations"
   ]
  },
  {
   "cell_type": "markdown",
   "id": "78f2c29c",
   "metadata": {},
   "source": [
    "#### consistency on thresholded data subset"
   ]
  },
  {
   "cell_type": "code",
   "execution_count": 37,
   "id": "44f033b6",
   "metadata": {},
   "outputs": [
    {
     "data": {
      "text/plain": [
       "{'paws-x': {'de_from_en': 0.7737991266375546},\n",
       " 'xnli': {'de_from_en': 0.4913589945011783},\n",
       " 'copa': {'it_from_en': 0.8734177215189873},\n",
       " 'belebele': {'de_from_en': 0.8702830188679245,\n",
       "  'it_from_en': 0.8387755102040816,\n",
       "  'nl_from_en': 0.8613518197573656,\n",
       "  'sv_from_en': 0.8481012658227848}}"
      ]
     },
     "execution_count": 37,
     "metadata": {},
     "output_type": "execute_result"
    }
   ],
   "source": [
    "# threshold 0.85\n",
    "threshold_consistency"
   ]
  },
  {
   "cell_type": "code",
   "execution_count": 38,
   "id": "69f2befa",
   "metadata": {},
   "outputs": [
    {
     "name": "stdout",
     "output_type": "stream",
     "text": [
      "-2.7299999999999898 2.039999999999999\n"
     ]
    }
   ],
   "source": [
    "# threshold: 0.85\n",
    "consistency_orig = np.array([74.65, 51.18, 85.8, 84.67, 85.11, 85.78, 83.33])\n",
    "consistency_thresholded = np.array([77.38, 49.14, 87.34, 87.03, 83.88, 86.14, 84.81])\n",
    "print(np.min(consistency_orig-consistency_thresholded), np.max(consistency_orig-consistency_thresholded))"
   ]
  },
  {
   "cell_type": "code",
   "execution_count": 39,
   "id": "fa85af8c",
   "metadata": {},
   "outputs": [
    {
     "data": {
      "text/plain": [
       "Ttest_indResult(statistic=-0.10485114895906371, pvalue=0.9182261034403543)"
      ]
     },
     "execution_count": 39,
     "metadata": {},
     "output_type": "execute_result"
    }
   ],
   "source": [
    "from scipy.stats import ttest_ind as ttest\n",
    "\n",
    "ttest(consistency_orig, consistency_thresholded)"
   ]
  },
  {
   "cell_type": "code",
   "execution_count": 40,
   "id": "800c9673",
   "metadata": {},
   "outputs": [
    {
     "name": "stdout",
     "output_type": "stream",
     "text": [
      "min -1.9399999999999977\n",
      "max 1.1400000000000006\n"
     ]
    }
   ],
   "source": [
    "# OLD \n",
    "# threshold: 0.8\n",
    "#threshold_consistency\n",
    "#{'paws-x': {'de_from_en': 0.765906362545018},\n",
    "# 'xnli': {'de_from_en': 0.500395256916996},\n",
    "# 'copa': {'it_from_en': 0.8697788697788698},\n",
    "# 'belebele': {'de_from_en': 0.8510131108462455,\n",
    "#  'it_from_en': 0.8514970059880239,\n",
    "#  'nl_from_en': 0.8610129564193169,\n",
    "#  'sv_from_en': 0.8482352941176471}}\n",
    "\n",
    "# threshold: 0.8\n",
    "print(\"min\", np.min([74.65-76.59, 51.18-50.04, 85.8-86.98, 84.67-85.10, 85.11-85.14,85.78-86.10,83.33-84.82]))\n",
    "print(\"max\", np.max([74.65-76.59, 51.18-50.04, 85.8-86.98, 84.67-85.10, 85.11-85.14,85.78-86.10,83.33-84.82]))"
   ]
  }
 ],
 "metadata": {
  "kernelspec": {
   "display_name": "Python 3 (ipykernel)",
   "language": "python",
   "name": "python3"
  },
  "language_info": {
   "codemirror_mode": {
    "name": "ipython",
    "version": 3
   },
   "file_extension": ".py",
   "mimetype": "text/x-python",
   "name": "python",
   "nbconvert_exporter": "python",
   "pygments_lexer": "ipython3",
   "version": "3.10.10"
  }
 },
 "nbformat": 4,
 "nbformat_minor": 5
}
