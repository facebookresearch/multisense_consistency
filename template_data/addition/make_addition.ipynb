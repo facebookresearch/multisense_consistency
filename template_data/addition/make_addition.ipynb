{
 "cells": [
  {
   "cell_type": "code",
   "execution_count": 6,
   "id": "d4ecbb36",
   "metadata": {},
   "outputs": [],
   "source": [
    "import pickle\n",
    "import numpy as np\n",
    "from datasets import Dataset\n",
    "from arithmetics_utils import *"
   ]
  },
  {
   "cell_type": "code",
   "execution_count": 7,
   "id": "ff213ae3",
   "metadata": {},
   "outputs": [],
   "source": [
    "np.random.seed(0)\n",
    "random_numbers_1 = np.random.randint(0, 1000, size=500)\n",
    "random_numbers_2 = np.random.randint(0, 1000, size=500)\n",
    "numbers_addition = [(random_numbers_1[i], random_numbers_2[i]) for i in range(500)]"
   ]
  },
  {
   "cell_type": "code",
   "execution_count": 8,
   "id": "8d70dd2a",
   "metadata": {},
   "outputs": [],
   "source": [
    "data = {}\n",
    "\n",
    "for language in [\"num\", \"en\", \"de\", \"sv\", \"nl\", \"it\"]:\n",
    "\n",
    "    data[language] = {\"number1\": [], \"number2\": [], \"label\":[]}\n",
    "\n",
    "    for i in range(500):\n",
    "        \n",
    "        number1, number2 = numbers_addition[i]\n",
    "        result = number1 + number2\n",
    "        \n",
    "        if language == \"num\":\n",
    "            number1_string = str(number1)\n",
    "            number2_string = str(number2)\n",
    "        else:\n",
    "            number1_string = number_to_words(language, number1)\n",
    "            number2_string = number_to_words(language, number2)\n",
    "            \n",
    "        # result_in_words = number_to_words(language, result)\n",
    "        answers = [str(result)]\n",
    "        if len(str(result)) > 3:\n",
    "            answers.append(str(result)[0:-3] + \",\" + str(result)[-3:])\n",
    "            answers.append(str(result)[0:-3] + \".\" + str(result)[-3:])\n",
    "\n",
    "        data[language][\"number1\"].append(number1_string)\n",
    "        data[language][\"number2\"].append(number2_string)\n",
    "        data[language][\"label\"].append(answers)"
   ]
  },
  {
   "cell_type": "code",
   "execution_count": 9,
   "id": "1056a4d0",
   "metadata": {},
   "outputs": [],
   "source": [
    "for language in [\"num\", \"en\", \"de\", \"sv\", \"nl\", \"it\"]:\n",
    "    dataset = Dataset.from_dict(data[language])\n",
    "    with open('dataset_' + language + '.pkl', 'wb') as output:\n",
    "        pickle.dump(dataset, output)"
   ]
  }
 ],
 "metadata": {
  "kernelspec": {
   "display_name": "Python 3 (ipykernel)",
   "language": "python",
   "name": "python3"
  },
  "language_info": {
   "codemirror_mode": {
    "name": "ipython",
    "version": 3
   },
   "file_extension": ".py",
   "mimetype": "text/x-python",
   "name": "python",
   "nbconvert_exporter": "python",
   "pygments_lexer": "ipython3",
   "version": "3.10.10"
  }
 },
 "nbformat": 4,
 "nbformat_minor": 5
}
