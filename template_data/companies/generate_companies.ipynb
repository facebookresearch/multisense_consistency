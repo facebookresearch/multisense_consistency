{
 "cells": [
  {
   "cell_type": "code",
   "execution_count": 1,
   "id": "26aa41c1",
   "metadata": {},
   "outputs": [],
   "source": [
    "import pickle\n",
    "import pandas as pd\n",
    "from datasets import Dataset"
   ]
  },
  {
   "cell_type": "code",
   "execution_count": 2,
   "id": "27ac9e27",
   "metadata": {},
   "outputs": [],
   "source": [
    "df_us = pd.read_csv('companies - us.csv')\n",
    "df_de = pd.read_csv('companies - de.csv')\n",
    "df_sv = pd.read_csv('companies - sv.csv')\n",
    "df_it = pd.read_csv('companies - it.csv')\n",
    "df_nl = pd.read_csv('companies - nl.csv')"
   ]
  },
  {
   "cell_type": "code",
   "execution_count": 3,
   "id": "619c37f2",
   "metadata": {},
   "outputs": [],
   "source": [
    "def dataset_from_dataframe(df):\n",
    "    \n",
    "    n = len(df[\"name\"])\n",
    "    \n",
    "    dataset_new = {\"company\": [], \"label\": []}\n",
    "    \n",
    "    for i in range(n):\n",
    "        dataset_new[\"company\"].append(df[\"name\"][i])\n",
    "        dataset_new[\"label\"].append(df[\"headquarters\"][i].split(\";\"))\n",
    "    \n",
    "    return Dataset.from_dict(dataset_new)"
   ]
  },
  {
   "cell_type": "code",
   "execution_count": 4,
   "id": "d3da98c5",
   "metadata": {},
   "outputs": [],
   "source": [
    "dataset_us = dataset_from_dataframe(df_us)\n",
    "dataset_de = dataset_from_dataframe(df_de)\n",
    "dataset_sv = dataset_from_dataframe(df_sv)\n",
    "dataset_it = dataset_from_dataframe(df_it)\n",
    "dataset_nl = dataset_from_dataframe(df_nl)"
   ]
  },
  {
   "cell_type": "code",
   "execution_count": 5,
   "id": "b5b94293",
   "metadata": {},
   "outputs": [],
   "source": [
    "with open(\"dataset_us.pkl\", \"wb\") as f:\n",
    "    pickle.dump(dataset_us, f)\n",
    "with open(\"dataset_de.pkl\", \"wb\") as f:\n",
    "    pickle.dump(dataset_de, f)\n",
    "with open(\"dataset_it.pkl\", \"wb\") as f:\n",
    "    pickle.dump(dataset_it, f)\n",
    "with open(\"dataset_nl.pkl\", \"wb\") as f:\n",
    "    pickle.dump(dataset_nl, f)\n",
    "with open(\"dataset_sv.pkl\", \"wb\") as f:\n",
    "    pickle.dump(dataset_sv, f)"
   ]
  },
  {
   "cell_type": "code",
   "execution_count": null,
   "id": "496cde03",
   "metadata": {},
   "outputs": [],
   "source": []
  }
 ],
 "metadata": {
  "kernelspec": {
   "display_name": "Python 3 (ipykernel)",
   "language": "python",
   "name": "python3"
  },
  "language_info": {
   "codemirror_mode": {
    "name": "ipython",
    "version": 3
   },
   "file_extension": ".py",
   "mimetype": "text/x-python",
   "name": "python",
   "nbconvert_exporter": "python",
   "pygments_lexer": "ipython3",
   "version": "3.10.10"
  }
 },
 "nbformat": 4,
 "nbformat_minor": 5
}
