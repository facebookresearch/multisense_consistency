{
 "cells": [
  {
   "cell_type": "code",
   "execution_count": 1,
   "id": "26aa41c1",
   "metadata": {},
   "outputs": [],
   "source": [
    "import pickle\n",
    "import pandas as pd\n",
    "from datasets import Dataset\n",
    "import random"
   ]
  },
  {
   "cell_type": "code",
   "execution_count": 2,
   "id": "27ac9e27",
   "metadata": {},
   "outputs": [],
   "source": [
    "df_english_complete = pd.read_csv('writers - english.csv')\n",
    "df_german_complete = pd.read_csv('writers - german.csv')\n",
    "df_italian_complete = pd.read_csv('writers - italian.csv')\n",
    "df_dutch_complete = pd.read_csv('writers - dutch.csv')\n",
    "df_swedish = pd.read_csv('writers - swedish.csv')"
   ]
  },
  {
   "cell_type": "code",
   "execution_count": 3,
   "id": "97661d54",
   "metadata": {},
   "outputs": [],
   "source": [
    "n = len(df_swedish)\n",
    "df_german = df_german_complete.sample(n=n, replace=False, random_state=10)\n",
    "df_english = df_english_complete.sample(n=n, replace=False, random_state=11)\n",
    "df_dutch = df_dutch_complete.sample(n=n, replace=False, random_state=12)\n",
    "df_italian = df_italian_complete.sample(n=n, replace=False, random_state=13)"
   ]
  },
  {
   "cell_type": "code",
   "execution_count": 4,
   "id": "619c37f2",
   "metadata": {},
   "outputs": [],
   "source": [
    "def dataset_from_dataframe(df):\n",
    "      \n",
    "    dataset_new = {\"author\": [], \"label\": []}\n",
    "    \n",
    "    for index, row in df.iterrows():\n",
    "        dataset_new[\"author\"].append(row[\"name\"])\n",
    "        dataset_new[\"label\"].append([str(row[\"born\"])])\n",
    "    \n",
    "    return Dataset.from_dict(dataset_new)"
   ]
  },
  {
   "cell_type": "code",
   "execution_count": 5,
   "id": "d3da98c5",
   "metadata": {},
   "outputs": [],
   "source": [
    "dataset_english = dataset_from_dataframe(df_english)\n",
    "dataset_german = dataset_from_dataframe(df_german)\n",
    "dataset_swedish = dataset_from_dataframe(df_swedish)\n",
    "dataset_italian = dataset_from_dataframe(df_italian)\n",
    "dataset_dutch = dataset_from_dataframe(df_dutch)"
   ]
  },
  {
   "cell_type": "code",
   "execution_count": 42,
   "id": "b5b94293",
   "metadata": {},
   "outputs": [],
   "source": [
    "with open(\"dataset_english.pkl\", \"wb\") as f:\n",
    "    pickle.dump(dataset_english, f)\n",
    "with open(\"dataset_german.pkl\", \"wb\") as f:\n",
    "    pickle.dump(dataset_german, f)\n",
    "with open(\"dataset_italian.pkl\", \"wb\") as f:\n",
    "    pickle.dump(dataset_italian, f)\n",
    "with open(\"dataset_dutch.pkl\", \"wb\") as f:\n",
    "    pickle.dump(dataset_dutch, f)\n",
    "with open(\"dataset_swedish.pkl\", \"wb\") as f:\n",
    "    pickle.dump(dataset_swedish, f)"
   ]
  },
  {
   "cell_type": "code",
   "execution_count": null,
   "id": "50ed0cad",
   "metadata": {},
   "outputs": [],
   "source": []
  }
 ],
 "metadata": {
  "kernelspec": {
   "display_name": "Python 3 (ipykernel)",
   "language": "python",
   "name": "python3"
  },
  "language_info": {
   "codemirror_mode": {
    "name": "ipython",
    "version": 3
   },
   "file_extension": ".py",
   "mimetype": "text/x-python",
   "name": "python",
   "nbconvert_exporter": "python",
   "pygments_lexer": "ipython3",
   "version": "3.10.10"
  }
 },
 "nbformat": 4,
 "nbformat_minor": 5
}
