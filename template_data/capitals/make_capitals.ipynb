{
 "cells": [
  {
   "cell_type": "code",
   "execution_count": 1,
   "id": "144320ed",
   "metadata": {},
   "outputs": [],
   "source": [
    "import pickle\n",
    "import pandas as pd\n",
    "from datasets import Dataset\n",
    "from capitals_templates import prompt_templates"
   ]
  },
  {
   "cell_type": "code",
   "execution_count": 2,
   "id": "f907ea2e",
   "metadata": {},
   "outputs": [],
   "source": [
    "df = pd.read_csv('capitals.csv')"
   ]
  },
  {
   "cell_type": "code",
   "execution_count": 3,
   "id": "ac3cb4cc",
   "metadata": {},
   "outputs": [],
   "source": [
    "data = {}\n",
    "for language in [\"vi\"]:\n",
    "    data[language] = {\"completion\": [], \"qa\": [], \"answers\":[]}\n",
    "    for i in range(len(df)):\n",
    "        country = df[\"country-\"+language][i]\n",
    "        if language == \"lv\" and country[-1] == \"s\":\n",
    "            country = country[:-1]\n",
    "        completion = prompt_templates[\"completion\"][language].replace(\"[COUNTRY]\", country)\n",
    "        qa = prompt_templates[\"qa\"][language].replace(\"[COUNTRY]\", country)\n",
    "        answers = df[\"capital-\"+language][i].split(\";\") + df[\"capital-alternatives\"][i].split(\";\")\n",
    "        \n",
    "        for elem in answers:\n",
    "            if elem[-1] == \"a\":\n",
    "                answers.append(elem[0:-1] + \"ā\")\n",
    "        \n",
    "        data[language][\"completion\"].append(completion)\n",
    "        data[language][\"qa\"].append(qa)\n",
    "        data[language][\"answers\"].append(answers)"
   ]
  },
  {
   "cell_type": "code",
   "execution_count": 4,
   "id": "71e5edaa",
   "metadata": {},
   "outputs": [],
   "source": [
    "for language in [\"vi\"]:\n",
    "    dataset = Dataset.from_dict(data[language])\n",
    "    with open('dataset_' + language + '.pkl', 'wb') as output:\n",
    "        pickle.dump(dataset, output)"
   ]
  }
 ],
 "metadata": {
  "kernelspec": {
   "display_name": "Python 3 (ipykernel)",
   "language": "python",
   "name": "python3"
  },
  "language_info": {
   "codemirror_mode": {
    "name": "ipython",
    "version": 3
   },
   "file_extension": ".py",
   "mimetype": "text/x-python",
   "name": "python",
   "nbconvert_exporter": "python",
   "pygments_lexer": "ipython3",
   "version": "3.10.10"
  }
 },
 "nbformat": 4,
 "nbformat_minor": 5
}
