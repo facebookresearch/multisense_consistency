{
 "cells": [
  {
   "cell_type": "code",
   "execution_count": 33,
   "id": "03d131c2",
   "metadata": {},
   "outputs": [],
   "source": [
    "import pickle\n",
    "import pandas as pd\n",
    "from datasets import Dataset"
   ]
  },
  {
   "cell_type": "code",
   "execution_count": 34,
   "id": "ba984221",
   "metadata": {},
   "outputs": [],
   "source": [
    "hundred_meters = pd.read_csv('olympics - 100m.csv')\n",
    "downhill = pd.read_csv('olympics - downhill.csv')"
   ]
  },
  {
   "cell_type": "code",
   "execution_count": 35,
   "id": "fb5e7210",
   "metadata": {},
   "outputs": [],
   "source": [
    "def dataset_from_dataframe(df):\n",
    "    \n",
    "    n = len(df[\"year\"])\n",
    "    \n",
    "    dataset_new = {\"medal\": [], \"sex\": [], \"year\": [], \"label\": []}\n",
    "    \n",
    "    for i in range(n):\n",
    "        for medal in [\"gold\", \"silver\", \"bronze\"]:\n",
    "            if df[medal + \"-name\"][i] != \"na\":\n",
    "                dataset_new[\"medal\"].append(str(medal))\n",
    "                dataset_new[\"year\"].append(str(df[\"year\"][i]))\n",
    "                dataset_new[\"sex\"].append(str(df[\"sex\"][i]))\n",
    "                dataset_new[\"label\"].append(df[medal + \"-name\"][i].split(\";\"))\n",
    "    \n",
    "    return Dataset.from_dict(dataset_new)"
   ]
  },
  {
   "cell_type": "code",
   "execution_count": 36,
   "id": "39113c74",
   "metadata": {},
   "outputs": [],
   "source": [
    "dataset_hundred_meters = dataset_from_dataframe(hundred_meters)\n",
    "dataset_downhill = dataset_from_dataframe(downhill)"
   ]
  },
  {
   "cell_type": "code",
   "execution_count": 37,
   "id": "9d530a1b",
   "metadata": {},
   "outputs": [],
   "source": [
    "with open(\"dataset_hundred_meters.pkl\", \"wb\") as f:\n",
    "    pickle.dump(dataset_hundred_meters, f)"
   ]
  },
  {
   "cell_type": "code",
   "execution_count": 38,
   "id": "fede3b62",
   "metadata": {},
   "outputs": [],
   "source": [
    "with open(\"dataset_downhill.pkl\", \"wb\") as f:\n",
    "    pickle.dump(dataset_downhill, f)"
   ]
  }
 ],
 "metadata": {
  "kernelspec": {
   "display_name": "Python 3 (ipykernel)",
   "language": "python",
   "name": "python3"
  },
  "language_info": {
   "codemirror_mode": {
    "name": "ipython",
    "version": 3
   },
   "file_extension": ".py",
   "mimetype": "text/x-python",
   "name": "python",
   "nbconvert_exporter": "python",
   "pygments_lexer": "ipython3",
   "version": "3.10.10"
  }
 },
 "nbformat": 4,
 "nbformat_minor": 5
}
