{
 "cells": [
  {
   "cell_type": "code",
   "execution_count": 27,
   "id": "144320ed",
   "metadata": {},
   "outputs": [],
   "source": [
    "import pickle\n",
    "import pandas as pd\n",
    "from datasets import Dataset"
   ]
  },
  {
   "cell_type": "code",
   "execution_count": 28,
   "id": "63f77f74",
   "metadata": {},
   "outputs": [],
   "source": [
    "df = pd.read_csv('chemical-elements.csv')"
   ]
  },
  {
   "cell_type": "code",
   "execution_count": 29,
   "id": "c0c921bc",
   "metadata": {},
   "outputs": [],
   "source": [
    "df_new = df"
   ]
  },
  {
   "cell_type": "code",
   "execution_count": 30,
   "id": "aebe4a34",
   "metadata": {},
   "outputs": [],
   "source": [
    "for column in [\"period\", \"group\", \"element\", \"atomic-number\"]:\n",
    "    if column == \"atomic-number\":\n",
    "        df_new[column] = [[str(elem)] for elem in df[column]]\n",
    "    else:\n",
    "        df_new[column] = [str(elem) for elem in df[column]]"
   ]
  },
  {
   "cell_type": "code",
   "execution_count": 31,
   "id": "d300446a",
   "metadata": {},
   "outputs": [],
   "source": [
    "df = df.rename(columns={\"atomic-number\": \"label\"})"
   ]
  },
  {
   "cell_type": "code",
   "execution_count": 32,
   "id": "f907ea2e",
   "metadata": {},
   "outputs": [],
   "source": [
    "dataset = Dataset.from_pandas(df)\n",
    "with open('dataset.pkl', 'wb') as output:\n",
    "        pickle.dump(dataset, output)"
   ]
  },
  {
   "cell_type": "code",
   "execution_count": null,
   "id": "91d79f88",
   "metadata": {},
   "outputs": [],
   "source": []
  }
 ],
 "metadata": {
  "kernelspec": {
   "display_name": "Python 3 (ipykernel)",
   "language": "python",
   "name": "python3"
  },
  "language_info": {
   "codemirror_mode": {
    "name": "ipython",
    "version": 3
   },
   "file_extension": ".py",
   "mimetype": "text/x-python",
   "name": "python",
   "nbconvert_exporter": "python",
   "pygments_lexer": "ipython3",
   "version": "3.10.10"
  }
 },
 "nbformat": 4,
 "nbformat_minor": 5
}
