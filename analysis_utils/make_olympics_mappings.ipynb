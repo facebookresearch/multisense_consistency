{
 "cells": [
  {
   "cell_type": "code",
   "execution_count": 1,
   "id": "9ea7118b",
   "metadata": {},
   "outputs": [],
   "source": [
    "import sys\n",
    "sys.path.append(\"C:\\\\Users\\\\Xenia\\\\PycharmProjects\\\\lm_multisense_consistency\\\\\")\n",
    "from utils.load_task import *\n",
    "from utils.eval_metrics import normalize_answer"
   ]
  },
  {
   "cell_type": "code",
   "execution_count": 2,
   "id": "8a6ba863",
   "metadata": {},
   "outputs": [],
   "source": [
    "collection = \"olympics\"\n",
    "tasks = [\"hundred_meters\", \"downhill\"]\n",
    "all_labels = []"
   ]
  },
  {
   "cell_type": "code",
   "execution_count": 3,
   "id": "4441e81b",
   "metadata": {},
   "outputs": [],
   "source": [
    "for task in tasks:\n",
    "    with open(\"C:\\\\Users\\\\Xenia\\\\PycharmProjects\\\\lm_multisense_consistency\\\\template_data\\\\\" + collection + \"/dataset_\" + task + \".pkl\", \"rb\") as f:\n",
    "        dataset = pickle.load(f)\n",
    "    all_labels += dataset[\"label\"]"
   ]
  },
  {
   "cell_type": "code",
   "execution_count": 9,
   "id": "85bb6b07",
   "metadata": {},
   "outputs": [],
   "source": [
    "name_mappings = {}"
   ]
  },
  {
   "cell_type": "code",
   "execution_count": 10,
   "id": "b9580aa0",
   "metadata": {},
   "outputs": [],
   "source": [
    "for label in all_labels:\n",
    "    for sublabel in label:\n",
    "        if normalize_answer(sublabel) in name_mappings.keys():\n",
    "            continue\n",
    "        else:\n",
    "            name_mappings[normalize_answer(sublabel)] = normalize_answer(label[0])"
   ]
  },
  {
   "cell_type": "code",
   "execution_count": null,
   "id": "baf1e833",
   "metadata": {},
   "outputs": [],
   "source": []
  }
 ],
 "metadata": {
  "kernelspec": {
   "display_name": "Python 3 (ipykernel)",
   "language": "python",
   "name": "python3"
  },
  "language_info": {
   "codemirror_mode": {
    "name": "ipython",
    "version": 3
   },
   "file_extension": ".py",
   "mimetype": "text/x-python",
   "name": "python",
   "nbconvert_exporter": "python",
   "pygments_lexer": "ipython3",
   "version": "3.10.10"
  }
 },
 "nbformat": 4,
 "nbformat_minor": 5
}
